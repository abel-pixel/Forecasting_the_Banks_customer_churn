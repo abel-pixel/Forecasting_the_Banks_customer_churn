{
 "cells": [
  {
   "cell_type": "markdown",
   "metadata": {
    "toc": true
   },
   "source": [
    "<h1>Содержание<span class=\"tocSkip\"></span></h1>\n",
    "<div class=\"toc\"><ul class=\"toc-item\"><li><span><a href=\"#Подготовка-данных\" data-toc-modified-id=\"Подготовка-данных-1\"><span class=\"toc-item-num\">1&nbsp;&nbsp;</span>Подготовка данных</a></span><ul class=\"toc-item\"><li><span><a href=\"#Вывод\" data-toc-modified-id=\"Вывод-1.1\"><span class=\"toc-item-num\">1.1&nbsp;&nbsp;</span>Вывод</a></span></li></ul></li><li><span><a href=\"#Исследование-задачи\" data-toc-modified-id=\"Исследование-задачи-2\"><span class=\"toc-item-num\">2&nbsp;&nbsp;</span>Исследование задачи</a></span><ul class=\"toc-item\"><li><span><a href=\"#Деление-данные-на-выборки\" data-toc-modified-id=\"Деление-данные-на-выборки-2.1\"><span class=\"toc-item-num\">2.1&nbsp;&nbsp;</span>Деление данные на выборки</a></span><ul class=\"toc-item\"><li><span><a href=\"#Вывод\" data-toc-modified-id=\"Вывод-2.1.1\"><span class=\"toc-item-num\">2.1.1&nbsp;&nbsp;</span>Вывод</a></span></li></ul></li><li><span><a href=\"#Решающее-дерево\" data-toc-modified-id=\"Решающее-дерево-2.2\"><span class=\"toc-item-num\">2.2&nbsp;&nbsp;</span>Решающее дерево</a></span></li><li><span><a href=\"#Случайный-лес\" data-toc-modified-id=\"Случайный-лес-2.3\"><span class=\"toc-item-num\">2.3&nbsp;&nbsp;</span>Случайный лес</a></span></li><li><span><a href=\"#Логистическая-регрессия\" data-toc-modified-id=\"Логистическая-регрессия-2.4\"><span class=\"toc-item-num\">2.4&nbsp;&nbsp;</span>Логистическая регрессия</a></span></li><li><span><a href=\"#Вывод\" data-toc-modified-id=\"Вывод-2.5\"><span class=\"toc-item-num\">2.5&nbsp;&nbsp;</span>Вывод</a></span></li></ul></li><li><span><a href=\"#Борьба-с-дисбалансом\" data-toc-modified-id=\"Борьба-с-дисбалансом-3\"><span class=\"toc-item-num\">3&nbsp;&nbsp;</span>Борьба с дисбалансом</a></span><ul class=\"toc-item\"><li><span><a href=\"#Исследование-баланса-классов\" data-toc-modified-id=\"Исследование-баланса-классов-3.1\"><span class=\"toc-item-num\">3.1&nbsp;&nbsp;</span>Исследование баланса классов</a></span><ul class=\"toc-item\"><li><span><a href=\"#Вывод\" data-toc-modified-id=\"Вывод-3.1.1\"><span class=\"toc-item-num\">3.1.1&nbsp;&nbsp;</span>Вывод</a></span></li></ul></li><li><span><a href=\"#Балансировка-классов\" data-toc-modified-id=\"Балансировка-классов-3.2\"><span class=\"toc-item-num\">3.2&nbsp;&nbsp;</span>Балансировка классов</a></span><ul class=\"toc-item\"><li><span><a href=\"#Решающее-дерево\" data-toc-modified-id=\"Решающее-дерево-3.2.1\"><span class=\"toc-item-num\">3.2.1&nbsp;&nbsp;</span>Решающее дерево</a></span></li><li><span><a href=\"#Случайный-лес\" data-toc-modified-id=\"Случайный-лес-3.2.2\"><span class=\"toc-item-num\">3.2.2&nbsp;&nbsp;</span>Случайный лес</a></span></li><li><span><a href=\"#Логистическая-регрессия\" data-toc-modified-id=\"Логистическая-регрессия-3.2.3\"><span class=\"toc-item-num\">3.2.3&nbsp;&nbsp;</span>Логистическая регрессия</a></span></li><li><span><a href=\"#Вывод\" data-toc-modified-id=\"Вывод-3.2.4\"><span class=\"toc-item-num\">3.2.4&nbsp;&nbsp;</span>Вывод</a></span></li></ul></li><li><span><a href=\"#Увеличение-выборки\" data-toc-modified-id=\"Увеличение-выборки-3.3\"><span class=\"toc-item-num\">3.3&nbsp;&nbsp;</span>Увеличение выборки</a></span><ul class=\"toc-item\"><li><span><a href=\"#Решающее-дерево\" data-toc-modified-id=\"Решающее-дерево-3.3.1\"><span class=\"toc-item-num\">3.3.1&nbsp;&nbsp;</span>Решающее дерево</a></span></li><li><span><a href=\"#Случайный-лес\" data-toc-modified-id=\"Случайный-лес-3.3.2\"><span class=\"toc-item-num\">3.3.2&nbsp;&nbsp;</span>Случайный лес</a></span></li><li><span><a href=\"#Логистическая-регрессия\" data-toc-modified-id=\"Логистическая-регрессия-3.3.3\"><span class=\"toc-item-num\">3.3.3&nbsp;&nbsp;</span>Логистическая регрессия</a></span></li><li><span><a href=\"#Вывод\" data-toc-modified-id=\"Вывод-3.3.4\"><span class=\"toc-item-num\">3.3.4&nbsp;&nbsp;</span>Вывод</a></span></li></ul></li><li><span><a href=\"#Уменьшение-выборки\" data-toc-modified-id=\"Уменьшение-выборки-3.4\"><span class=\"toc-item-num\">3.4&nbsp;&nbsp;</span>Уменьшение выборки</a></span><ul class=\"toc-item\"><li><span><a href=\"#Решающее-дерево\" data-toc-modified-id=\"Решающее-дерево-3.4.1\"><span class=\"toc-item-num\">3.4.1&nbsp;&nbsp;</span>Решающее дерево</a></span></li><li><span><a href=\"#Случайный-лес\" data-toc-modified-id=\"Случайный-лес-3.4.2\"><span class=\"toc-item-num\">3.4.2&nbsp;&nbsp;</span>Случайный лес</a></span></li><li><span><a href=\"#Логистическая-регрессия\" data-toc-modified-id=\"Логистическая-регрессия-3.4.3\"><span class=\"toc-item-num\">3.4.3&nbsp;&nbsp;</span>Логистическая регрессия</a></span></li><li><span><a href=\"#Вывод\" data-toc-modified-id=\"Вывод-3.4.4\"><span class=\"toc-item-num\">3.4.4&nbsp;&nbsp;</span>Вывод</a></span></li></ul></li><li><span><a href=\"#Вывод\" data-toc-modified-id=\"Вывод-3.5\"><span class=\"toc-item-num\">3.5&nbsp;&nbsp;</span>Вывод</a></span></li></ul></li><li><span><a href=\"#Тестирование-модели\" data-toc-modified-id=\"Тестирование-модели-4\"><span class=\"toc-item-num\">4&nbsp;&nbsp;</span>Тестирование модели</a></span><ul class=\"toc-item\"><li><span><a href=\"#Вывод\" data-toc-modified-id=\"Вывод-4.1\"><span class=\"toc-item-num\">4.1&nbsp;&nbsp;</span>Вывод</a></span></li></ul></li><li><span><a href=\"#Общий-вывод\" data-toc-modified-id=\"Общий-вывод-5\"><span class=\"toc-item-num\">5&nbsp;&nbsp;</span>Общий вывод</a></span></li><li><span><a href=\"#Чек-лист-готовности-проекта\" data-toc-modified-id=\"Чек-лист-готовности-проекта-6\"><span class=\"toc-item-num\">6&nbsp;&nbsp;</span>Чек-лист готовности проекта</a></span></li></ul></div>"
   ]
  },
  {
   "cell_type": "markdown",
   "metadata": {},
   "source": [
    "# Отток клиентов"
   ]
  },
  {
   "cell_type": "markdown",
   "metadata": {},
   "source": [
    "Из «Бета-Банка» стали уходить клиенты. Каждый месяц. Немного, но заметно. Банковские маркетологи посчитали: сохранять текущих клиентов дешевле, чем привлекать новых.\n",
    "\n",
    "Нужно спрогнозировать, уйдёт клиент из банка в ближайшее время или нет. Вам предоставлены исторические данные о поведении клиентов и расторжении договоров с банком. \n",
    "\n",
    "Постройте модель с предельно большим значением *F1*-меры. Чтобы сдать проект успешно, нужно довести метрику до 0.59. Проверьте *F1*-меру на тестовой выборке самостоятельно.\n",
    "\n",
    "Дополнительно измеряйте *AUC-ROC*, сравнивайте её значение с *F1*-мерой.\n",
    "\n",
    "Источник данных: [https://www.kaggle.com/barelydedicated/bank-customer-churn-modeling](https://www.kaggle.com/barelydedicated/bank-customer-churn-modeling)"
   ]
  },
  {
   "cell_type": "markdown",
   "metadata": {},
   "source": [
    "## Подготовка данных"
   ]
  },
  {
   "cell_type": "code",
   "execution_count": 1,
   "metadata": {},
   "outputs": [],
   "source": [
    "import pandas as pd\n",
    "import numpy as np\n",
    "import matplotlib.pyplot as plt\n",
    "\n",
    "from sklearn.preprocessing import MinMaxScaler\n",
    "from sklearn.utils import shuffle\n",
    "from sklearn.model_selection import train_test_split, GridSearchCV\n",
    "from sklearn.linear_model import LogisticRegression\n",
    "from sklearn.ensemble import RandomForestClassifier\n",
    "from sklearn.preprocessing import StandardScaler\n",
    "from sklearn.tree import DecisionTreeClassifier\n",
    "from sklearn.dummy import DummyClassifier\n",
    "\n",
    "\n",
    "from sklearn.metrics import (\n",
    "    accuracy_score, \n",
    "    confusion_matrix, \n",
    "    f1_score, \n",
    "    mean_squared_error, \n",
    "    roc_auc_score\n",
    ")\n",
    "\n",
    "\n",
    "\n",
    "import warnings\n",
    "warnings.filterwarnings(\"ignore\")"
   ]
  },
  {
   "cell_type": "code",
   "execution_count": 2,
   "metadata": {},
   "outputs": [],
   "source": [
    "data = pd.read_csv('/datasets/Churn.csv')"
   ]
  },
  {
   "cell_type": "code",
   "execution_count": 3,
   "metadata": {},
   "outputs": [
    {
     "data": {
      "text/html": [
       "<div>\n",
       "<style scoped>\n",
       "    .dataframe tbody tr th:only-of-type {\n",
       "        vertical-align: middle;\n",
       "    }\n",
       "\n",
       "    .dataframe tbody tr th {\n",
       "        vertical-align: top;\n",
       "    }\n",
       "\n",
       "    .dataframe thead th {\n",
       "        text-align: right;\n",
       "    }\n",
       "</style>\n",
       "<table border=\"1\" class=\"dataframe\">\n",
       "  <thead>\n",
       "    <tr style=\"text-align: right;\">\n",
       "      <th></th>\n",
       "      <th>RowNumber</th>\n",
       "      <th>CustomerId</th>\n",
       "      <th>Surname</th>\n",
       "      <th>CreditScore</th>\n",
       "      <th>Geography</th>\n",
       "      <th>Gender</th>\n",
       "      <th>Age</th>\n",
       "      <th>Tenure</th>\n",
       "      <th>Balance</th>\n",
       "      <th>NumOfProducts</th>\n",
       "      <th>HasCrCard</th>\n",
       "      <th>IsActiveMember</th>\n",
       "      <th>EstimatedSalary</th>\n",
       "      <th>Exited</th>\n",
       "    </tr>\n",
       "  </thead>\n",
       "  <tbody>\n",
       "    <tr>\n",
       "      <th>0</th>\n",
       "      <td>1</td>\n",
       "      <td>15634602</td>\n",
       "      <td>Hargrave</td>\n",
       "      <td>619</td>\n",
       "      <td>France</td>\n",
       "      <td>Female</td>\n",
       "      <td>42</td>\n",
       "      <td>2.0</td>\n",
       "      <td>0.00</td>\n",
       "      <td>1</td>\n",
       "      <td>1</td>\n",
       "      <td>1</td>\n",
       "      <td>101348.88</td>\n",
       "      <td>1</td>\n",
       "    </tr>\n",
       "    <tr>\n",
       "      <th>1</th>\n",
       "      <td>2</td>\n",
       "      <td>15647311</td>\n",
       "      <td>Hill</td>\n",
       "      <td>608</td>\n",
       "      <td>Spain</td>\n",
       "      <td>Female</td>\n",
       "      <td>41</td>\n",
       "      <td>1.0</td>\n",
       "      <td>83807.86</td>\n",
       "      <td>1</td>\n",
       "      <td>0</td>\n",
       "      <td>1</td>\n",
       "      <td>112542.58</td>\n",
       "      <td>0</td>\n",
       "    </tr>\n",
       "    <tr>\n",
       "      <th>2</th>\n",
       "      <td>3</td>\n",
       "      <td>15619304</td>\n",
       "      <td>Onio</td>\n",
       "      <td>502</td>\n",
       "      <td>France</td>\n",
       "      <td>Female</td>\n",
       "      <td>42</td>\n",
       "      <td>8.0</td>\n",
       "      <td>159660.80</td>\n",
       "      <td>3</td>\n",
       "      <td>1</td>\n",
       "      <td>0</td>\n",
       "      <td>113931.57</td>\n",
       "      <td>1</td>\n",
       "    </tr>\n",
       "    <tr>\n",
       "      <th>3</th>\n",
       "      <td>4</td>\n",
       "      <td>15701354</td>\n",
       "      <td>Boni</td>\n",
       "      <td>699</td>\n",
       "      <td>France</td>\n",
       "      <td>Female</td>\n",
       "      <td>39</td>\n",
       "      <td>1.0</td>\n",
       "      <td>0.00</td>\n",
       "      <td>2</td>\n",
       "      <td>0</td>\n",
       "      <td>0</td>\n",
       "      <td>93826.63</td>\n",
       "      <td>0</td>\n",
       "    </tr>\n",
       "    <tr>\n",
       "      <th>4</th>\n",
       "      <td>5</td>\n",
       "      <td>15737888</td>\n",
       "      <td>Mitchell</td>\n",
       "      <td>850</td>\n",
       "      <td>Spain</td>\n",
       "      <td>Female</td>\n",
       "      <td>43</td>\n",
       "      <td>2.0</td>\n",
       "      <td>125510.82</td>\n",
       "      <td>1</td>\n",
       "      <td>1</td>\n",
       "      <td>1</td>\n",
       "      <td>79084.10</td>\n",
       "      <td>0</td>\n",
       "    </tr>\n",
       "  </tbody>\n",
       "</table>\n",
       "</div>"
      ],
      "text/plain": [
       "   RowNumber  CustomerId   Surname  CreditScore Geography  Gender  Age  \\\n",
       "0          1    15634602  Hargrave          619    France  Female   42   \n",
       "1          2    15647311      Hill          608     Spain  Female   41   \n",
       "2          3    15619304      Onio          502    France  Female   42   \n",
       "3          4    15701354      Boni          699    France  Female   39   \n",
       "4          5    15737888  Mitchell          850     Spain  Female   43   \n",
       "\n",
       "   Tenure    Balance  NumOfProducts  HasCrCard  IsActiveMember  \\\n",
       "0     2.0       0.00              1          1               1   \n",
       "1     1.0   83807.86              1          0               1   \n",
       "2     8.0  159660.80              3          1               0   \n",
       "3     1.0       0.00              2          0               0   \n",
       "4     2.0  125510.82              1          1               1   \n",
       "\n",
       "   EstimatedSalary  Exited  \n",
       "0        101348.88       1  \n",
       "1        112542.58       0  \n",
       "2        113931.57       1  \n",
       "3         93826.63       0  \n",
       "4         79084.10       0  "
      ]
     },
     "execution_count": 3,
     "metadata": {},
     "output_type": "execute_result"
    }
   ],
   "source": [
    "data.head()"
   ]
  },
  {
   "cell_type": "code",
   "execution_count": 4,
   "metadata": {},
   "outputs": [
    {
     "data": {
      "text/html": [
       "<div>\n",
       "<style scoped>\n",
       "    .dataframe tbody tr th:only-of-type {\n",
       "        vertical-align: middle;\n",
       "    }\n",
       "\n",
       "    .dataframe tbody tr th {\n",
       "        vertical-align: top;\n",
       "    }\n",
       "\n",
       "    .dataframe thead th {\n",
       "        text-align: right;\n",
       "    }\n",
       "</style>\n",
       "<table border=\"1\" class=\"dataframe\">\n",
       "  <thead>\n",
       "    <tr style=\"text-align: right;\">\n",
       "      <th></th>\n",
       "      <th>RowNumber</th>\n",
       "      <th>CustomerId</th>\n",
       "      <th>Surname</th>\n",
       "      <th>CreditScore</th>\n",
       "      <th>Geography</th>\n",
       "      <th>Gender</th>\n",
       "      <th>Age</th>\n",
       "      <th>Tenure</th>\n",
       "      <th>Balance</th>\n",
       "      <th>NumOfProducts</th>\n",
       "      <th>HasCrCard</th>\n",
       "      <th>IsActiveMember</th>\n",
       "      <th>EstimatedSalary</th>\n",
       "      <th>Exited</th>\n",
       "    </tr>\n",
       "  </thead>\n",
       "  <tbody>\n",
       "    <tr>\n",
       "      <th>count</th>\n",
       "      <td>10000.00000</td>\n",
       "      <td>1.000000e+04</td>\n",
       "      <td>10000</td>\n",
       "      <td>10000.000000</td>\n",
       "      <td>10000</td>\n",
       "      <td>10000</td>\n",
       "      <td>10000.000000</td>\n",
       "      <td>9091.000000</td>\n",
       "      <td>10000.000000</td>\n",
       "      <td>10000.000000</td>\n",
       "      <td>10000.00000</td>\n",
       "      <td>10000.000000</td>\n",
       "      <td>10000.000000</td>\n",
       "      <td>10000.000000</td>\n",
       "    </tr>\n",
       "    <tr>\n",
       "      <th>unique</th>\n",
       "      <td>NaN</td>\n",
       "      <td>NaN</td>\n",
       "      <td>2932</td>\n",
       "      <td>NaN</td>\n",
       "      <td>3</td>\n",
       "      <td>2</td>\n",
       "      <td>NaN</td>\n",
       "      <td>NaN</td>\n",
       "      <td>NaN</td>\n",
       "      <td>NaN</td>\n",
       "      <td>NaN</td>\n",
       "      <td>NaN</td>\n",
       "      <td>NaN</td>\n",
       "      <td>NaN</td>\n",
       "    </tr>\n",
       "    <tr>\n",
       "      <th>top</th>\n",
       "      <td>NaN</td>\n",
       "      <td>NaN</td>\n",
       "      <td>Smith</td>\n",
       "      <td>NaN</td>\n",
       "      <td>France</td>\n",
       "      <td>Male</td>\n",
       "      <td>NaN</td>\n",
       "      <td>NaN</td>\n",
       "      <td>NaN</td>\n",
       "      <td>NaN</td>\n",
       "      <td>NaN</td>\n",
       "      <td>NaN</td>\n",
       "      <td>NaN</td>\n",
       "      <td>NaN</td>\n",
       "    </tr>\n",
       "    <tr>\n",
       "      <th>freq</th>\n",
       "      <td>NaN</td>\n",
       "      <td>NaN</td>\n",
       "      <td>32</td>\n",
       "      <td>NaN</td>\n",
       "      <td>5014</td>\n",
       "      <td>5457</td>\n",
       "      <td>NaN</td>\n",
       "      <td>NaN</td>\n",
       "      <td>NaN</td>\n",
       "      <td>NaN</td>\n",
       "      <td>NaN</td>\n",
       "      <td>NaN</td>\n",
       "      <td>NaN</td>\n",
       "      <td>NaN</td>\n",
       "    </tr>\n",
       "    <tr>\n",
       "      <th>mean</th>\n",
       "      <td>5000.50000</td>\n",
       "      <td>1.569094e+07</td>\n",
       "      <td>NaN</td>\n",
       "      <td>650.528800</td>\n",
       "      <td>NaN</td>\n",
       "      <td>NaN</td>\n",
       "      <td>38.921800</td>\n",
       "      <td>4.997690</td>\n",
       "      <td>76485.889288</td>\n",
       "      <td>1.530200</td>\n",
       "      <td>0.70550</td>\n",
       "      <td>0.515100</td>\n",
       "      <td>100090.239881</td>\n",
       "      <td>0.203700</td>\n",
       "    </tr>\n",
       "    <tr>\n",
       "      <th>std</th>\n",
       "      <td>2886.89568</td>\n",
       "      <td>7.193619e+04</td>\n",
       "      <td>NaN</td>\n",
       "      <td>96.653299</td>\n",
       "      <td>NaN</td>\n",
       "      <td>NaN</td>\n",
       "      <td>10.487806</td>\n",
       "      <td>2.894723</td>\n",
       "      <td>62397.405202</td>\n",
       "      <td>0.581654</td>\n",
       "      <td>0.45584</td>\n",
       "      <td>0.499797</td>\n",
       "      <td>57510.492818</td>\n",
       "      <td>0.402769</td>\n",
       "    </tr>\n",
       "    <tr>\n",
       "      <th>min</th>\n",
       "      <td>1.00000</td>\n",
       "      <td>1.556570e+07</td>\n",
       "      <td>NaN</td>\n",
       "      <td>350.000000</td>\n",
       "      <td>NaN</td>\n",
       "      <td>NaN</td>\n",
       "      <td>18.000000</td>\n",
       "      <td>0.000000</td>\n",
       "      <td>0.000000</td>\n",
       "      <td>1.000000</td>\n",
       "      <td>0.00000</td>\n",
       "      <td>0.000000</td>\n",
       "      <td>11.580000</td>\n",
       "      <td>0.000000</td>\n",
       "    </tr>\n",
       "    <tr>\n",
       "      <th>25%</th>\n",
       "      <td>2500.75000</td>\n",
       "      <td>1.562853e+07</td>\n",
       "      <td>NaN</td>\n",
       "      <td>584.000000</td>\n",
       "      <td>NaN</td>\n",
       "      <td>NaN</td>\n",
       "      <td>32.000000</td>\n",
       "      <td>2.000000</td>\n",
       "      <td>0.000000</td>\n",
       "      <td>1.000000</td>\n",
       "      <td>0.00000</td>\n",
       "      <td>0.000000</td>\n",
       "      <td>51002.110000</td>\n",
       "      <td>0.000000</td>\n",
       "    </tr>\n",
       "    <tr>\n",
       "      <th>50%</th>\n",
       "      <td>5000.50000</td>\n",
       "      <td>1.569074e+07</td>\n",
       "      <td>NaN</td>\n",
       "      <td>652.000000</td>\n",
       "      <td>NaN</td>\n",
       "      <td>NaN</td>\n",
       "      <td>37.000000</td>\n",
       "      <td>5.000000</td>\n",
       "      <td>97198.540000</td>\n",
       "      <td>1.000000</td>\n",
       "      <td>1.00000</td>\n",
       "      <td>1.000000</td>\n",
       "      <td>100193.915000</td>\n",
       "      <td>0.000000</td>\n",
       "    </tr>\n",
       "    <tr>\n",
       "      <th>75%</th>\n",
       "      <td>7500.25000</td>\n",
       "      <td>1.575323e+07</td>\n",
       "      <td>NaN</td>\n",
       "      <td>718.000000</td>\n",
       "      <td>NaN</td>\n",
       "      <td>NaN</td>\n",
       "      <td>44.000000</td>\n",
       "      <td>7.000000</td>\n",
       "      <td>127644.240000</td>\n",
       "      <td>2.000000</td>\n",
       "      <td>1.00000</td>\n",
       "      <td>1.000000</td>\n",
       "      <td>149388.247500</td>\n",
       "      <td>0.000000</td>\n",
       "    </tr>\n",
       "    <tr>\n",
       "      <th>max</th>\n",
       "      <td>10000.00000</td>\n",
       "      <td>1.581569e+07</td>\n",
       "      <td>NaN</td>\n",
       "      <td>850.000000</td>\n",
       "      <td>NaN</td>\n",
       "      <td>NaN</td>\n",
       "      <td>92.000000</td>\n",
       "      <td>10.000000</td>\n",
       "      <td>250898.090000</td>\n",
       "      <td>4.000000</td>\n",
       "      <td>1.00000</td>\n",
       "      <td>1.000000</td>\n",
       "      <td>199992.480000</td>\n",
       "      <td>1.000000</td>\n",
       "    </tr>\n",
       "  </tbody>\n",
       "</table>\n",
       "</div>"
      ],
      "text/plain": [
       "          RowNumber    CustomerId Surname   CreditScore Geography Gender  \\\n",
       "count   10000.00000  1.000000e+04   10000  10000.000000     10000  10000   \n",
       "unique          NaN           NaN    2932           NaN         3      2   \n",
       "top             NaN           NaN   Smith           NaN    France   Male   \n",
       "freq            NaN           NaN      32           NaN      5014   5457   \n",
       "mean     5000.50000  1.569094e+07     NaN    650.528800       NaN    NaN   \n",
       "std      2886.89568  7.193619e+04     NaN     96.653299       NaN    NaN   \n",
       "min         1.00000  1.556570e+07     NaN    350.000000       NaN    NaN   \n",
       "25%      2500.75000  1.562853e+07     NaN    584.000000       NaN    NaN   \n",
       "50%      5000.50000  1.569074e+07     NaN    652.000000       NaN    NaN   \n",
       "75%      7500.25000  1.575323e+07     NaN    718.000000       NaN    NaN   \n",
       "max     10000.00000  1.581569e+07     NaN    850.000000       NaN    NaN   \n",
       "\n",
       "                 Age       Tenure        Balance  NumOfProducts    HasCrCard  \\\n",
       "count   10000.000000  9091.000000   10000.000000   10000.000000  10000.00000   \n",
       "unique           NaN          NaN            NaN            NaN          NaN   \n",
       "top              NaN          NaN            NaN            NaN          NaN   \n",
       "freq             NaN          NaN            NaN            NaN          NaN   \n",
       "mean       38.921800     4.997690   76485.889288       1.530200      0.70550   \n",
       "std        10.487806     2.894723   62397.405202       0.581654      0.45584   \n",
       "min        18.000000     0.000000       0.000000       1.000000      0.00000   \n",
       "25%        32.000000     2.000000       0.000000       1.000000      0.00000   \n",
       "50%        37.000000     5.000000   97198.540000       1.000000      1.00000   \n",
       "75%        44.000000     7.000000  127644.240000       2.000000      1.00000   \n",
       "max        92.000000    10.000000  250898.090000       4.000000      1.00000   \n",
       "\n",
       "        IsActiveMember  EstimatedSalary        Exited  \n",
       "count     10000.000000     10000.000000  10000.000000  \n",
       "unique             NaN              NaN           NaN  \n",
       "top                NaN              NaN           NaN  \n",
       "freq               NaN              NaN           NaN  \n",
       "mean          0.515100    100090.239881      0.203700  \n",
       "std           0.499797     57510.492818      0.402769  \n",
       "min           0.000000        11.580000      0.000000  \n",
       "25%           0.000000     51002.110000      0.000000  \n",
       "50%           1.000000    100193.915000      0.000000  \n",
       "75%           1.000000    149388.247500      0.000000  \n",
       "max           1.000000    199992.480000      1.000000  "
      ]
     },
     "execution_count": 4,
     "metadata": {},
     "output_type": "execute_result"
    }
   ],
   "source": [
    "data.describe(include='all')"
   ]
  },
  {
   "cell_type": "code",
   "execution_count": 5,
   "metadata": {},
   "outputs": [
    {
     "name": "stdout",
     "output_type": "stream",
     "text": [
      "<class 'pandas.core.frame.DataFrame'>\n",
      "RangeIndex: 10000 entries, 0 to 9999\n",
      "Data columns (total 14 columns):\n",
      " #   Column           Non-Null Count  Dtype  \n",
      "---  ------           --------------  -----  \n",
      " 0   RowNumber        10000 non-null  int64  \n",
      " 1   CustomerId       10000 non-null  int64  \n",
      " 2   Surname          10000 non-null  object \n",
      " 3   CreditScore      10000 non-null  int64  \n",
      " 4   Geography        10000 non-null  object \n",
      " 5   Gender           10000 non-null  object \n",
      " 6   Age              10000 non-null  int64  \n",
      " 7   Tenure           9091 non-null   float64\n",
      " 8   Balance          10000 non-null  float64\n",
      " 9   NumOfProducts    10000 non-null  int64  \n",
      " 10  HasCrCard        10000 non-null  int64  \n",
      " 11  IsActiveMember   10000 non-null  int64  \n",
      " 12  EstimatedSalary  10000 non-null  float64\n",
      " 13  Exited           10000 non-null  int64  \n",
      "dtypes: float64(3), int64(8), object(3)\n",
      "memory usage: 1.1+ MB\n"
     ]
    }
   ],
   "source": [
    "data.info()"
   ]
  },
  {
   "cell_type": "code",
   "execution_count": 6,
   "metadata": {},
   "outputs": [
    {
     "data": {
      "text/plain": [
       "0"
      ]
     },
     "execution_count": 6,
     "metadata": {},
     "output_type": "execute_result"
    }
   ],
   "source": [
    "data.duplicated().sum()"
   ]
  },
  {
   "cell_type": "code",
   "execution_count": 7,
   "metadata": {},
   "outputs": [
    {
     "name": "stdout",
     "output_type": "stream",
     "text": [
      "<class 'pandas.core.frame.DataFrame'>\n",
      "RangeIndex: 10000 entries, 0 to 9999\n",
      "Data columns (total 13 columns):\n",
      " #   Column           Non-Null Count  Dtype  \n",
      "---  ------           --------------  -----  \n",
      " 0   RowNumber        10000 non-null  int64  \n",
      " 1   CustomerId       10000 non-null  int64  \n",
      " 2   Surname          10000 non-null  object \n",
      " 3   CreditScore      10000 non-null  int64  \n",
      " 4   Geography        10000 non-null  object \n",
      " 5   Gender           10000 non-null  object \n",
      " 6   Age              10000 non-null  int64  \n",
      " 7   Balance          10000 non-null  float64\n",
      " 8   NumOfProducts    10000 non-null  int64  \n",
      " 9   HasCrCard        10000 non-null  int64  \n",
      " 10  IsActiveMember   10000 non-null  int64  \n",
      " 11  EstimatedSalary  10000 non-null  float64\n",
      " 12  Exited           10000 non-null  int64  \n",
      "dtypes: float64(2), int64(8), object(3)\n",
      "memory usage: 1015.8+ KB\n"
     ]
    }
   ],
   "source": [
    "# Удаляем пропусков\n",
    "\n",
    "data= data.drop(columns=['Tenure'])\n",
    "data.info()"
   ]
  },
  {
   "cell_type": "code",
   "execution_count": 8,
   "metadata": {},
   "outputs": [
    {
     "data": {
      "text/plain": [
       "array(['France', 'Spain', 'Germany'], dtype=object)"
      ]
     },
     "execution_count": 8,
     "metadata": {},
     "output_type": "execute_result"
    }
   ],
   "source": [
    "data['Geography'].unique()"
   ]
  },
  {
   "cell_type": "markdown",
   "metadata": {},
   "source": [
    "Преобразуем категориальные признаки в численные с помощью техники прямого кодирования OHE, удалив столбцы, в которых для нашего исследования нет необходимости: RowNumber, CustomerId, Surname ."
   ]
  },
  {
   "cell_type": "code",
   "execution_count": 9,
   "metadata": {},
   "outputs": [
    {
     "name": "stdout",
     "output_type": "stream",
     "text": [
      "<class 'pandas.core.frame.DataFrame'>\n",
      "RangeIndex: 10000 entries, 0 to 9999\n",
      "Data columns (total 11 columns):\n",
      " #   Column             Non-Null Count  Dtype  \n",
      "---  ------             --------------  -----  \n",
      " 0   CreditScore        10000 non-null  int64  \n",
      " 1   Age                10000 non-null  int64  \n",
      " 2   Balance            10000 non-null  float64\n",
      " 3   NumOfProducts      10000 non-null  int64  \n",
      " 4   HasCrCard          10000 non-null  int64  \n",
      " 5   IsActiveMember     10000 non-null  int64  \n",
      " 6   EstimatedSalary    10000 non-null  float64\n",
      " 7   Exited             10000 non-null  int64  \n",
      " 8   Geography_Germany  10000 non-null  uint8  \n",
      " 9   Geography_Spain    10000 non-null  uint8  \n",
      " 10  Gender_Male        10000 non-null  uint8  \n",
      "dtypes: float64(2), int64(6), uint8(3)\n",
      "memory usage: 654.4 KB\n"
     ]
    }
   ],
   "source": [
    "data_ohe = data.drop(['RowNumber', 'CustomerId', 'Surname'], axis=1)\n",
    "data_ohe = pd.get_dummies(data_ohe, drop_first=True)\n",
    "data_ohe.info()"
   ]
  },
  {
   "cell_type": "markdown",
   "metadata": {},
   "source": [
    "**Описание данных:**\n",
    "\n",
    "***Признаки***\n",
    "* RowNumber — индекс строки в данных\n",
    "* CustomerId — уникальный идентификатор клиента\n",
    "* Surname — фамилия\n",
    "* CreditScore — кредитный рейтинг\n",
    "* Geography — страна проживания\n",
    "* Gender — пол\n",
    "* Age — возраст\n",
    "* Tenure — сколько лет человек является клиентом банка\n",
    "* Balance — баланс на счёте\n",
    "* NumOfProducts — количество продуктов банка, используемых клиентом\n",
    "* HasCrCard — наличие кредитной карты\n",
    "* IsActiveMember — активность клиента\n",
    "* EstimatedSalary — предполагаемая зарплата\n",
    "\n",
    "***Целевой признак***\n",
    "* Exited — факт ухода клиента"
   ]
  },
  {
   "cell_type": "markdown",
   "metadata": {},
   "source": [
    "### Вывод"
   ]
  },
  {
   "cell_type": "markdown",
   "metadata": {},
   "source": [
    "* Системы в пропущенных значениях столбца ***Tenure*** не наблюдается - заполнены значением **0**.\n",
    "\n",
    "* Удалены столбцы, в которых нет необходимости: ***RowNumber, CustomerId, Surname***.\n",
    "    \n",
    "* Geography — всего 3 уникальных значения **'France', 'Spain', 'Germany'** — выполнить преобразование **OHE / ordinal encoding**.\n",
    "\n",
    "* Данные в датафрейме подготовлены для исследования.\n"
   ]
  },
  {
   "cell_type": "markdown",
   "metadata": {},
   "source": [
    "## Исследование задачи"
   ]
  },
  {
   "cell_type": "markdown",
   "metadata": {},
   "source": [
    "### Деление данные на выборки"
   ]
  },
  {
   "cell_type": "markdown",
   "metadata": {},
   "source": [
    "Исходные данные разбивают в соотношении 3:1:1."
   ]
  },
  {
   "cell_type": "code",
   "execution_count": 10,
   "metadata": {},
   "outputs": [],
   "source": [
    "# Разделим исходные данные на обучающую, валидационную и тестовую выборки.\n",
    "\n",
    "features = data_ohe.drop(['Exited'], axis=1)\n",
    "target = data['Exited']"
   ]
  },
  {
   "cell_type": "code",
   "execution_count": 11,
   "metadata": {},
   "outputs": [
    {
     "name": "stdout",
     "output_type": "stream",
     "text": [
      "(6000, 10)\n",
      "(6000,)\n"
     ]
    }
   ],
   "source": [
    "# Обучающая\n",
    "\n",
    "features_train, features_test, target_train, target_test = train_test_split(features, \n",
    "                                                                            target, \n",
    "                                                                            test_size=0.4, \n",
    "                                                                            random_state=12345\n",
    "                                                                           ) \n",
    "\n",
    "\n",
    "\n",
    "# Размер обучающей выборки\n",
    "\n",
    "print(features_train.shape)\n",
    "print(target_train.shape)"
   ]
  },
  {
   "cell_type": "code",
   "execution_count": 12,
   "metadata": {},
   "outputs": [
    {
     "name": "stdout",
     "output_type": "stream",
     "text": [
      "(2000, 10)\n",
      "(2000,)\n",
      "(2000, 10)\n",
      "(2000,)\n"
     ]
    }
   ],
   "source": [
    "# Валидационная и тестовая\n",
    "\n",
    "features_valid, features_test, target_valid, target_test = train_test_split(features_test, \n",
    "                                                                            target_test, \n",
    "                                                                            test_size=0.5, \n",
    "                                                                            random_state=12345\n",
    "                                                                           ) \n",
    "\n",
    "# Размер валидационной выборки\n",
    "print(features_valid.shape)\n",
    "print(target_valid.shape)\n",
    "\n",
    "# Размер тестовой выборки\n",
    "print(features_test.shape)\n",
    "print(target_test.shape)"
   ]
  },
  {
   "cell_type": "code",
   "execution_count": 13,
   "metadata": {},
   "outputs": [],
   "source": [
    "# Масштабирование данных при помощи структуры стандартизации данных StandardScaler\n",
    "\n",
    "scaler = StandardScaler()\n",
    "scaler.fit(features_train)\n",
    "\n",
    "pd.options.mode.chained_assignment = None\n",
    "features_train = scaler.transform(features_train)\n",
    "features_valid = pd.DataFrame(scaler.transform(features_valid))\n",
    "features_test = pd.DataFrame(scaler.transform(features_test))\n"
   ]
  },
  {
   "cell_type": "markdown",
   "metadata": {},
   "source": [
    "#### Вывод"
   ]
  },
  {
   "cell_type": "markdown",
   "metadata": {},
   "source": [
    "В столбец **\"Exited\"** отражено факт ухода клиента.\n",
    "\n",
    "В процессе моделирования будем использовать следующие модели машинного обучения:\n",
    "\n",
    "* **Решающее дерево**\n",
    "\n",
    "* **Случайный лес**\n",
    "\n",
    "* **Логистическая регрессия**"
   ]
  },
  {
   "cell_type": "markdown",
   "metadata": {},
   "source": [
    "### Решающее дерево"
   ]
  },
  {
   "cell_type": "code",
   "execution_count": 14,
   "metadata": {},
   "outputs": [
    {
     "name": "stdout",
     "output_type": "stream",
     "text": [
      "Глубина дерева: 6\n",
      "f1_score \"дерево решений\": 0.5658093797276854\n",
      "AUC-ROC модели\"дерево решений\": 0.7059850954820679\n"
     ]
    }
   ],
   "source": [
    "#Построим модель \"Решающего дерева\". Гиперпараметр max_depth будем изменять в пределах от 1 до 10 в цикле.\n",
    "\n",
    "\n",
    "best_depth = 0\n",
    "best_result = 0\n",
    "depth_dt = []\n",
    "results = []\n",
    "best_dt_auc_roc = 0\n",
    "dt_auc_roc =[]\n",
    "\n",
    "for depth in range(1, 11):\n",
    "    \n",
    "    model_dt = DecisionTreeClassifier(random_state=12345, max_depth=depth)\n",
    "    model_dt.fit(features_train, target_train)\n",
    "    predictions_dt = model_dt.predict(features_valid) \n",
    "    result = f1_score(target_valid, predictions_dt) \n",
    "    auc_roc = roc_auc_score(target_valid, predictions_dt)\n",
    "    depth_dt.append(depth)\n",
    "    results.append(result)\n",
    "    dt_auc_roc.append(auc_roc)\n",
    "\n",
    "    if result > best_result :\n",
    "        best_depth = depth \n",
    "        best_result = result\n",
    "        best_dt_auc_roc = auc_roc\n",
    "        \n",
    "print('Глубина дерева:', best_depth)\n",
    "print('f1_score \"дерево решений\":', best_result)      \n",
    "print('AUC-ROC модели\"дерево решений\":', best_dt_auc_roc)      \n"
   ]
  },
  {
   "cell_type": "code",
   "execution_count": 15,
   "metadata": {},
   "outputs": [
    {
     "data": {
      "image/png": "[encoded data removed]",
      "text/plain": [
       "<Figure size 432x288 with 1 Axes>"
      ]
     },
     "metadata": {
      "needs_background": "light"
     },
     "output_type": "display_data"
    },
    {
     "data": {
      "image/png": "[encoded data removed]",
      "text/plain": [
       "<Figure size 432x288 with 1 Axes>"
      ]
     },
     "metadata": {
      "needs_background": "light"
     },
     "output_type": "display_data"
    }
   ],
   "source": [
    "# Построим график на моделей \"Решающего дерева\" от глубины дерева.\n",
    "\n",
    "\n",
    "plt.grid(True)\n",
    "plt.plot(depth_dt, results)\n",
    "plt.xlabel('Глубина дерева')\n",
    "plt.ylabel('F1-мера')\n",
    "plt.title('Зависимость F1-меры от глубины дерева')\n",
    "plt.show()\n",
    "\n",
    "plt.grid(True)\n",
    "plt.plot(depth_dt, dt_auc_roc)\n",
    "plt.xlabel('Глубина дерева')\n",
    "plt.ylabel('AUC-ROC')\n",
    "plt.title('Зависимость AUC-ROC от глубины дерева')\n",
    "plt.show()"
   ]
  },
  {
   "cell_type": "markdown",
   "metadata": {},
   "source": [
    "### Случайный лес"
   ]
  },
  {
   "cell_type": "code",
   "execution_count": 16,
   "metadata": {},
   "outputs": [
    {
     "name": "stdout",
     "output_type": "stream",
     "text": [
      "Глубина дерева: 5\n",
      "Количество деревьев: 50\n",
      "f1_score \"случайного леса\": 0.49578414839797635\n",
      "AUC-ROC модели\"случайного леса\": 0.6669877630520388\n"
     ]
    }
   ],
   "source": [
    "#Создадим цикл, в котором переберём модели случайного леса с количеством деревьев от 10 до 51 с шагом 10\n",
    "\n",
    "best_depth = 0\n",
    "depth_rf = []\n",
    "best_result = 0\n",
    "n_estimators = []\n",
    "results_rf = []\n",
    "best_rf_auc_roc = 0\n",
    "rf_auc_roc =[]\n",
    "\n",
    "for est in range(10, 51, 10):\n",
    "    for depth in range(1, 6):\n",
    "        model_rf = RandomForestClassifier(random_state=12345, n_estimators=est, max_depth=depth)\n",
    "        model_rf.fit(features_train, target_train)\n",
    "        predictions_rf = model_rf.predict(features_valid)\n",
    "        result = f1_score(target_valid, predictions_rf)\n",
    "        auc_roc = roc_auc_score(target_valid, predictions_rf)\n",
    "        depth_rf.append(depth)\n",
    "        n_estimators.append(est)\n",
    "        results_rf.append(result)\n",
    "        rf_auc_roc.append(auc_roc)\n",
    "\n",
    "        if result > best_result :\n",
    "            best_result = result\n",
    "            best_depth = depth\n",
    "            best_est = est\n",
    "            best_rf_auc_roc = auc_roc\n",
    "        \n",
    "        \n",
    "print('Глубина дерева:', best_depth)\n",
    "print('Количество деревьев:', best_est)\n",
    "print('f1_score \"случайного леса\":', best_result)      \n",
    "print('AUC-ROC модели\"случайного леса\":', best_rf_auc_roc)\n",
    "            "
   ]
  },
  {
   "cell_type": "code",
   "execution_count": 17,
   "metadata": {},
   "outputs": [
    {
     "data": {
      "image/png": "[encoded data removed]",
      "text/plain": [
       "<Figure size 432x288 with 1 Axes>"
      ]
     },
     "metadata": {
      "needs_background": "light"
     },
     "output_type": "display_data"
    },
    {
     "data": {
      "image/png": "[encoded data removed]",
      "text/plain": [
       "<Figure size 432x288 with 1 Axes>"
      ]
     },
     "metadata": {
      "needs_background": "light"
     },
     "output_type": "display_data"
    }
   ],
   "source": [
    "# Построим график на моделей \"случайный лес\" от количество деревьев.\n",
    "\n",
    "plt.grid(True)\n",
    "plt.plot(n_estimators, results_rf)\n",
    "plt.title(\"Зависимость F1-меры от количества деревьев\")\n",
    "plt.xlabel(\"Количество деревьев\")\n",
    "plt.ylabel(\"F1-мера\")\n",
    "plt.show()\n",
    "\n",
    "\n",
    "plt.grid(True)\n",
    "plt.plot(n_estimators, rf_auc_roc)\n",
    "plt.title(\"Зависимость AUC-ROC от количества деревьев\")\n",
    "plt.xlabel(\"Количество деревьев\")\n",
    "plt.ylabel(\"AUC-ROC\")\n",
    "plt.show()\n"
   ]
  },
  {
   "cell_type": "markdown",
   "metadata": {},
   "source": [
    "### Логистическая регрессия"
   ]
  },
  {
   "cell_type": "code",
   "execution_count": 18,
   "metadata": {},
   "outputs": [
    {
     "name": "stdout",
     "output_type": "stream",
     "text": [
      "f1_score 'логистическая регрессия': 0.3247863247863248\n",
      "AUC-ROC модели\"логистическая регрессия\": 0.5908803585794736\n"
     ]
    }
   ],
   "source": [
    "model_lr = LogisticRegression(random_state=12345, solver='liblinear')\n",
    "model_lr.fit(features_train, target_train)\n",
    "\n",
    "predictions_lr = model_lr.predict(features_valid)\n",
    "best_result = f1_score(target_valid, predictions_lr)\n",
    "best_lr_auc_roc = roc_auc_score(target_valid, predictions_lr)\n",
    "\n",
    "print(\"f1_score 'логистическая регрессия':\", best_result)\n",
    "print('AUC-ROC модели\"логистическая регрессия\":', best_lr_auc_roc)      \n"
   ]
  },
  {
   "cell_type": "markdown",
   "metadata": {},
   "source": [
    "### Вывод"
   ]
  },
  {
   "cell_type": "markdown",
   "metadata": {},
   "source": [
    "По результатам исследования моделей без учёта дисбаланса классов можно сделать следующие заключения:\n",
    "\n",
    "* F1-мера у **модели дерева решений** получилась **0.56**, глубина дерева при этом равна 6  и **AUC-ROC = 0.70**, что является лучшим результатом.\n",
    "\n",
    "* Рассчётная F1-мера у **модели случайного леса** составила **0.49** (при количестве деревьев 50 и глубине леса 5) и **AUC-ROC = 0.66**.\n",
    "\n",
    "* F1-мера у **модели логистической регрессии** получилась наиболее низкой **0.32** - это послужило следствием того, что в представленном датасете, вероятно, более сложные, нелинейные связи между признаками и таргетом и **AUC-ROC=0.59**\n",
    "\n",
    "* Требуется работа над дисбалансом."
   ]
  },
  {
   "cell_type": "markdown",
   "metadata": {},
   "source": [
    "## Борьба с дисбалансом"
   ]
  },
  {
   "cell_type": "markdown",
   "metadata": {},
   "source": [
    "### Исследование баланса классов"
   ]
  },
  {
   "cell_type": "code",
   "execution_count": 19,
   "metadata": {},
   "outputs": [
    {
     "data": {
      "text/plain": [
       "0    0.7963\n",
       "1    0.2037\n",
       "Name: Exited, dtype: float64"
      ]
     },
     "execution_count": 19,
     "metadata": {},
     "output_type": "execute_result"
    }
   ],
   "source": [
    "#Визуализация дисбаланса классов\n",
    "\n",
    "data['Exited'].value_counts(normalize=True)"
   ]
  },
  {
   "cell_type": "code",
   "execution_count": 20,
   "metadata": {},
   "outputs": [
    {
     "data": {
      "text/plain": [
       "array([[1526,   56],\n",
       "       [ 231,  187]])"
      ]
     },
     "execution_count": 20,
     "metadata": {},
     "output_type": "execute_result"
    }
   ],
   "source": [
    "# Построим матрицу ошибок для модели дерева решений  при помощи функции confusion_matrix()\n",
    "\n",
    "model_dt = DecisionTreeClassifier(random_state=12345, max_depth=6)\n",
    "model_dt.fit(features_train, target_train)\n",
    "predictions_dt = model_dt.predict(features_valid)\n",
    "confusion_matrix(target_valid, predictions_dt)"
   ]
  },
  {
   "cell_type": "code",
   "execution_count": 21,
   "metadata": {},
   "outputs": [
    {
     "data": {
      "text/plain": [
       "array([[1554,   28],\n",
       "       [ 271,  147]])"
      ]
     },
     "execution_count": 21,
     "metadata": {},
     "output_type": "execute_result"
    }
   ],
   "source": [
    "# Построим матрицу ошибок для модели случайного леса при помощи функции confusion_matrix()\n",
    "\n",
    "model_rf = RandomForestClassifier(random_state=12345, n_estimators=50, max_depth=5)\n",
    "model_rf.fit(features_train, target_train)\n",
    "predictions_rf = model_rf.predict(features_valid)\n",
    "confusion_matrix(target_valid, predictions_rf)"
   ]
  },
  {
   "cell_type": "code",
   "execution_count": 22,
   "metadata": {},
   "outputs": [
    {
     "data": {
      "text/plain": [
       "array([[1510,   72],\n",
       "       [ 323,   95]])"
      ]
     },
     "execution_count": 22,
     "metadata": {},
     "output_type": "execute_result"
    }
   ],
   "source": [
    "# Построим матрицу ошибок для модели логистической регрессии при помощи функции confusion_matrix()\n",
    "\n",
    "model_lr = LogisticRegression(random_state=12345, solver='liblinear')\n",
    "model_lr.fit(features_train, target_train)\n",
    "predictions_lr = model_lr.predict(features_valid)\n",
    "confusion_matrix(target_valid, predictions_lr)"
   ]
  },
  {
   "cell_type": "markdown",
   "metadata": {},
   "source": [
    "#### Вывод"
   ]
  },
  {
   "cell_type": "markdown",
   "metadata": {},
   "source": [
    "* Модель угадывает большое количество истинно отрицательных ответов.\n",
    "* Угаданных истинно положительных ответов критически мало.\n",
    "* Соответственно, у модели низкие показатели точности и полноты."
   ]
  },
  {
   "cell_type": "markdown",
   "metadata": {},
   "source": [
    "### Балансировка классов"
   ]
  },
  {
   "cell_type": "markdown",
   "metadata": {},
   "source": [
    "#### Решающее дерево"
   ]
  },
  {
   "cell_type": "code",
   "execution_count": 23,
   "metadata": {},
   "outputs": [
    {
     "name": "stdout",
     "output_type": "stream",
     "text": [
      "Глубина дерева: 5\n",
      "f1_score \"дерево решений\": 0\n",
      "AUC-ROC модели\"дерево решений\": 0.7059850954820679\n"
     ]
    }
   ],
   "source": [
    "\n",
    "best_result = 0\n",
    "best_f1_dt = 0\n",
    "best_auc_roc = 0\n",
    "\n",
    "for depth in range(1, 11):\n",
    "    \n",
    "    model_dt = DecisionTreeClassifier(random_state=12345, max_depth=6)\n",
    "    model_dt.fit(features_train, target_train)\n",
    "    predictions_dt = model_dt.predict(features_valid) \n",
    "    f1 = f1_score(target_valid, predictions_dt) \n",
    "    probabilities_valid = model_dt.predict_proba(features_valid)\n",
    "    auc_roc = roc_auc_score(target_valid, probabilities_valid[:, 1])\n",
    "   \n",
    "    if f1 > best_f1_dt:\n",
    "        best_f1 = f1\n",
    "        best_est = est\n",
    "        best_auc_roc = auc_roc\n",
    "        \n",
    "print('Глубина дерева:', best_depth)\n",
    "print('f1_score \"дерево решений\":', best_f1_dt)      \n",
    "print('AUC-ROC модели\"дерево решений\":', best_dt_auc_roc)      \n",
    "\n"
   ]
  },
  {
   "cell_type": "markdown",
   "metadata": {},
   "source": [
    "#### Случайный лес"
   ]
  },
  {
   "cell_type": "code",
   "execution_count": 24,
   "metadata": {},
   "outputs": [
    {
     "name": "stdout",
     "output_type": "stream",
     "text": [
      "Глубина дерева: 5\n",
      "Количество деревьев: 10\n",
      "f1_score \"случайного леса\": 0.6136595310907238\n",
      "AUC-ROC модели\"случайного леса\": 0.8525373671507812\n"
     ]
    }
   ],
   "source": [
    "# Сбалансируем классы при помощи аргумента class_weight. Посчитаем F1-меру и AUC-ROC \n",
    "# Создадим цикл, в котором переберём модели случайного леса с количеством деревьев от 10 до 51 с шагом 10.\n",
    "\n",
    "best_result = 0\n",
    "best_f1_rf = 0\n",
    "best_auc_roc = 0\n",
    "for depth in range(1, 30, 1):\n",
    "    for est in range(10, 51, 10):\n",
    "        model_rf = RandomForestClassifier(random_state=12345, n_estimators=50, max_depth=5, class_weight='balanced')\n",
    "        model_rf.fit(features_train, target_train)\n",
    "        predictions_rf = model_rf.predict(features_valid)\n",
    "        f1 = f1_score(target_valid, predictions_rf)\n",
    "        probabilities_valid = model_rf.predict_proba(features_valid)\n",
    "        auc_roc = roc_auc_score(target_valid, probabilities_valid[:, 1])\n",
    "\n",
    "        if f1 > best_f1_rf:\n",
    "            best_f1_rf = f1\n",
    "            best_est = est\n",
    "            best_auc_roc = auc_roc\n",
    "            \n",
    "print('Глубина дерева:', best_depth)\n",
    "print('Количество деревьев:', best_est)\n",
    "print('f1_score \"случайного леса\":', best_f1_rf)      \n",
    "print('AUC-ROC модели\"случайного леса\":', best_auc_roc)\n",
    "\n"
   ]
  },
  {
   "cell_type": "markdown",
   "metadata": {},
   "source": [
    "#### Логистическая регрессия"
   ]
  },
  {
   "cell_type": "code",
   "execution_count": 25,
   "metadata": {},
   "outputs": [
    {
     "name": "stdout",
     "output_type": "stream",
     "text": [
      "f1_score 'логистическая регрессия': 0.3247863247863248\n",
      "AUC-ROC модели\"логистическая регрессия\": 0.5908803585794736\n"
     ]
    }
   ],
   "source": [
    "\n",
    "model_lr = LogisticRegression(random_state=12345, solver='liblinear')\n",
    "model_lr.fit(features_train, target_train)\n",
    "predictions_lr = model_lr.predict(features_valid)\n",
    "best_f1_lr = f1_score(target_valid, predictions_lr)\n",
    "probabilities_valid = model_lr.predict_proba(features_valid)\n",
    "auc_roc = roc_auc_score(target_valid, probabilities_valid[:, 1])\n",
    "\n",
    "\n",
    "print(\"f1_score 'логистическая регрессия':\", best_f1_lr)\n",
    "print('AUC-ROC модели\"логистическая регрессия\":', best_lr_auc_roc)      \n"
   ]
  },
  {
   "cell_type": "markdown",
   "metadata": {},
   "source": [
    "#### Вывод"
   ]
  },
  {
   "cell_type": "markdown",
   "metadata": {},
   "source": [
    "* После балансировки классов достигнуто значение F1-меры: f1_score \"дерево решений\"= 0, f1_score \"случайного леса\" =0.61 и у модели 'логистическая регрессия'= 0.32 т.е без измениний.\n",
    "\n",
    "\n",
    "* Значение AUC-ROC:У модели\"дерево решений\" равно 0.70,У модели\"случайного леса\"= 0.85и у модели 'логистическая регрессия'= 0.59 то есть без измениний.\n"
   ]
  },
  {
   "cell_type": "markdown",
   "metadata": {},
   "source": [
    "### Увеличение выборки"
   ]
  },
  {
   "cell_type": "markdown",
   "metadata": {},
   "source": [
    "Применим технику upsampling для этого создадим функцию upsample, которая принимает признаки, цель и количество копий, возвращает увеличенные выборки признаков."
   ]
  },
  {
   "cell_type": "code",
   "execution_count": 26,
   "metadata": {},
   "outputs": [],
   "source": [
    "def upsample(features, target, repeat):\n",
    "    features_zeros = features[target == 0]\n",
    "    features_ones = features[target == 1]\n",
    "    target_zeros = target[target == 0]\n",
    "    target_ones = target[target == 1]\n",
    "    \n",
    "    features_upsampled = np.concatenate([features_zeros] + [features_ones] * repeat)\n",
    "    target_upsampled = np.concatenate([target_zeros] + [target_ones] * repeat)\n",
    "    \n",
    "    features_upsampled, target_upsampled = shuffle(\n",
    "        features_upsampled, target_upsampled, random_state=12345)\n",
    "    \n",
    "    return features_upsampled, target_upsampled\n",
    "\n",
    "features_upsampled, target_upsampled = upsample(features_train, target_train, 4)"
   ]
  },
  {
   "cell_type": "markdown",
   "metadata": {},
   "source": [
    "#### Решающее дерево"
   ]
  },
  {
   "cell_type": "code",
   "execution_count": 27,
   "metadata": {},
   "outputs": [
    {
     "name": "stdout",
     "output_type": "stream",
     "text": [
      "Глубина дерева: 1\n",
      "F1-мера \"Решающее дерево\": 0.5658093797276854\n",
      "AUC-ROC 0.7059850954820679\n"
     ]
    }
   ],
   "source": [
    "# Обучим модель 'Решающее дерево' на новых данных. Найдём значение F1-меры и ROC-AUC.\n",
    "\n",
    "best_result = 0\n",
    "for depth in range(1, 11):\n",
    "    model_dt = DecisionTreeClassifier(random_state=12345, max_depth=depth)\n",
    "    model_dt.fit(features_upsampled, target_upsampled)\n",
    "    predictions_rf= model_dt.predict(features_valid)\n",
    "    result = f1_score(target_valid, predictions_dt)\n",
    "    auc_roc = roc_auc_score(target_valid, predictions_dt)\n",
    "\n",
    "    if result > best_result:\n",
    "        best_result = result\n",
    "        best_depth = depth\n",
    "        best_auc_roc = auc_roc\n",
    "\n",
    "print('Глубина дерева:', best_depth)\n",
    "print('F1-мера \"Решающее дерево\":', best_result)\n",
    "print('AUC-ROC', best_auc_roc)\n"
   ]
  },
  {
   "cell_type": "code",
   "execution_count": 28,
   "metadata": {},
   "outputs": [
    {
     "name": "stdout",
     "output_type": "stream",
     "text": [
      "Количество деревьев: 10\n",
      "F1-мера 0.4994903160040775\n",
      "AUC-ROC 0.6925565119556736\n"
     ]
    }
   ],
   "source": [
    "# Создадим циклс количеством деревьев от 10 до 201 с шагом 10.\n",
    "\n",
    "best_model = None\n",
    "best_f1 = 0\n",
    "best_auc_roc = 0\n",
    "\n",
    "for est in range(10, 201, 10):\n",
    "    model_dt = DecisionTreeClassifier(random_state=12345, max_depth=1)\n",
    "    model_dt.fit(features_upsampled, target_upsampled)\n",
    "    predictions_dt = model_dt.predict(features_valid)\n",
    "    f1 = f1_score(target_valid, predictions_dt)\n",
    "    probabilities_valid = model_dt.predict_proba(features_valid)\n",
    "    auc_roc = roc_auc_score(target_valid, probabilities_valid[:, 1])\n",
    "    \n",
    "    if f1 > best_f1:\n",
    "        best_model = model_rf\n",
    "        best_f1 = f1\n",
    "        best_est = est\n",
    "        best_auc_roc = auc_roc\n",
    "\n",
    "print('Количество деревьев:', best_est)\n",
    "print('F1-мера', best_f1)\n",
    "print('AUC-ROC', best_auc_roc)\n"
   ]
  },
  {
   "cell_type": "markdown",
   "metadata": {},
   "source": [
    "#### Случайный лес"
   ]
  },
  {
   "cell_type": "code",
   "execution_count": 29,
   "metadata": {},
   "outputs": [
    {
     "name": "stdout",
     "output_type": "stream",
     "text": [
      "Глубина дерева: 11\n",
      "F1-мера \"случайный лес\": 0.6203807390817468\n",
      "AUC-ROC 0.7687606990122127\n"
     ]
    }
   ],
   "source": [
    "# Обучим модель случайного леса на новых данных. Найдём значение F1-меры и ROC-AUC.\n",
    "\n",
    "best_result = 0\n",
    "for depth in range(1, 30, 1):\n",
    "    model_rf = RandomForestClassifier(n_estimators=20, max_depth=depth, random_state=12345)\n",
    "    model_rf.fit(features_upsampled, target_upsampled)\n",
    "    predictions_rf= model_rf.predict(features_valid)\n",
    "    result = f1_score(target_valid, predictions_rf)\n",
    "    auc_roc = roc_auc_score(target_valid, predictions_rf)\n",
    "\n",
    "    if result > best_result:\n",
    "        best_result = result\n",
    "        best_depth = depth\n",
    "        best_auc_roc = auc_roc\n",
    "\n",
    "print('Глубина дерева:', best_depth)\n",
    "print('F1-мера \"случайный лес\":', best_result)\n",
    "print('AUC-ROC', best_auc_roc)\n"
   ]
  },
  {
   "cell_type": "code",
   "execution_count": 30,
   "metadata": {},
   "outputs": [
    {
     "name": "stdout",
     "output_type": "stream",
     "text": [
      "Количество деревьев: 200\n",
      "F1-мера 0.6224256292906177\n",
      "AUC-ROC 0.8490206812284128\n"
     ]
    }
   ],
   "source": [
    "# Создадим цикл, в котором переберём модели случайного леса с количеством деревьев от 10 до 201 с шагом 10.\n",
    "\n",
    "best_model = None\n",
    "best_f1 = 0\n",
    "best_auc_roc = 0\n",
    "\n",
    "for est in range(10, 201, 10):\n",
    "    model_rf = RandomForestClassifier(random_state=12345, n_estimators=est, max_depth=11)\n",
    "    model_rf.fit(features_upsampled, target_upsampled)\n",
    "    predictions_rf = model_rf.predict(features_valid)\n",
    "    f1 = f1_score(target_valid, predictions_rf)\n",
    "    probabilities_valid = model_rf.predict_proba(features_valid)\n",
    "    auc_roc = roc_auc_score(target_valid, probabilities_valid[:, 1])\n",
    "    \n",
    "    if f1 > best_f1:\n",
    "        best_model = model_rf\n",
    "        best_f1 = f1\n",
    "        best_est = est\n",
    "        best_auc_roc = auc_roc\n",
    "\n",
    "print('Количество деревьев:', best_est)\n",
    "print('F1-мера', best_f1)\n",
    "print('AUC-ROC', best_auc_roc)\n"
   ]
  },
  {
   "cell_type": "markdown",
   "metadata": {},
   "source": [
    "#### Логистическая регрессия"
   ]
  },
  {
   "cell_type": "code",
   "execution_count": 31,
   "metadata": {},
   "outputs": [
    {
     "name": "stdout",
     "output_type": "stream",
     "text": [
      "F1-мера \"Логистическая регрессия\": 0.4883920894239037\n",
      "AUC-ROC 0.6940112751710331\n"
     ]
    }
   ],
   "source": [
    "# Обучим модель на новых данных. Найдём значение F1-меры и ROC-AUC.\n",
    "\n",
    "model_lr = LogisticRegression(random_state=12345, solver='liblinear')\n",
    "model_lr.fit(features_upsampled, target_upsampled)\n",
    "predictions_lr= model_lr.predict(features_valid)\n",
    "best_result = f1_score(target_valid, predictions_lr)\n",
    "best_auc_roc = roc_auc_score(target_valid, predictions_lr)\n",
    "\n",
    "\n",
    "print('F1-мера \"Логистическая регрессия\":', best_result)\n",
    "print('AUC-ROC', best_auc_roc)\n"
   ]
  },
  {
   "cell_type": "code",
   "execution_count": 32,
   "metadata": {},
   "outputs": [
    {
     "name": "stdout",
     "output_type": "stream",
     "text": [
      "F1-мера 0.6224256292906177\n",
      "AUC-ROC 0.6940112751710331\n"
     ]
    }
   ],
   "source": [
    "\n",
    "model_lr = LogisticRegression(random_state=12345, solver='liblinear')\n",
    "model_lr.fit(features_upsampled, target_upsampled)\n",
    "predictions_lr = model_lr.predict(features_valid)\n",
    "f1 = f1_score(target_valid, predictions_lr)\n",
    "probabilities_valid = model_lr.predict_proba(features_valid)\n",
    "auc_roc = roc_auc_score(target_valid, probabilities_valid[:, 1])\n",
    "    \n",
    "\n",
    "print('F1-мера', best_f1)\n",
    "print('AUC-ROC', best_auc_roc)\n"
   ]
  },
  {
   "cell_type": "markdown",
   "metadata": {},
   "source": [
    "#### Вывод"
   ]
  },
  {
   "cell_type": "markdown",
   "metadata": {},
   "source": [
    "* После применения методики upsampling получено значение F1-меры: \"дерево решений\"= 0.49, f1_score \"случайного леса\" =0.62 и у модели 'логистическая регрессия'= 0.62 \n",
    "* Значение AUC-ROC :  у модели дерево решений = 0.69, у случайного леса =0.84 и у модели 'логистическая регрессия'= 0.69 \n",
    "\n",
    "* Гиперпараметры модели: глубина леса у дерево решений = 1 и  количество деревьев = 10. глубина леса у случайного леса = 11 и  количество деревьев = 200\n",
    "\n",
    "* таким образом наилучшей модели это у модели **дерево решений**."
   ]
  },
  {
   "cell_type": "markdown",
   "metadata": {},
   "source": [
    "### Уменьшение выборки"
   ]
  },
  {
   "cell_type": "markdown",
   "metadata": {},
   "source": [
    "Применим технику downsampling для этого создадим функцию downsample, которая принимает признаки, цель и долю сохраняемых отрицательных объектов, возвращает уменьшенные выборки признаков"
   ]
  },
  {
   "cell_type": "code",
   "execution_count": 33,
   "metadata": {},
   "outputs": [],
   "source": [
    "\n",
    "def downsample(features, target, fraction):\n",
    "    features_zeros = features[target == 0]\n",
    "    features_ones = features[target == 1]\n",
    "    target_zeros = target[target == 0]\n",
    "    target_ones = target[target == 1]\n",
    "\n",
    "    features_downsampled = np.concatenate(\n",
    "        [pd.DataFrame(features_zeros).sample(frac=fraction, random_state=12345)] + [features_ones])\n",
    "    target_downsampled = np.concatenate(\n",
    "        [target_zeros.sample(frac=fraction, random_state=12345)] + [target_ones])\n",
    "    \n",
    "    features_downsampled, target_downsampled = shuffle(\n",
    "        features_downsampled, target_downsampled, random_state=12345)\n",
    "    \n",
    "    return features_downsampled, target_downsampled\n",
    "\n",
    "features_downsampled, target_downsampled = downsample(features_train, target_train, 0.25)"
   ]
  },
  {
   "cell_type": "markdown",
   "metadata": {},
   "source": [
    "#### Решающее дерево"
   ]
  },
  {
   "cell_type": "code",
   "execution_count": 34,
   "metadata": {},
   "outputs": [
    {
     "name": "stdout",
     "output_type": "stream",
     "text": [
      "Глубина дерева: 5\n",
      "F1-мера 0.5953109072375127\n",
      "AUC-ROC 0.76363122206159\n"
     ]
    }
   ],
   "source": [
    "# Обучим модель 'Решающее дерево' на новых данных. Найдём значение F1-меры и Логистическая регрессия\n",
    "\n",
    "best_result = 0\n",
    "for depth in range(1, 30, 1):\n",
    "    model_dt = DecisionTreeClassifier(random_state=12345, max_depth=depth)\n",
    "    model_dt.fit(features_downsampled, target_downsampled)\n",
    "    predictions_dt = model_dt.predict(features_valid)\n",
    "    result = f1_score(target_valid, predictions_dt)\n",
    "    auc_roc = roc_auc_score(target_valid, predictions_dt)\n",
    "\n",
    "    if result > best_result:\n",
    "        best_result = result\n",
    "        best_depth = depth\n",
    "        best_auc_roc = auc_roc\n",
    "        \n",
    "print('Глубина дерева:', best_depth)\n",
    "print('F1-мера', best_result)\n",
    "print('AUC-ROC', best_auc_roc)\n",
    "\n"
   ]
  },
  {
   "cell_type": "code",
   "execution_count": 35,
   "metadata": {},
   "outputs": [
    {
     "name": "stdout",
     "output_type": "stream",
     "text": [
      "Количество деревьев: 10\n",
      "F1-мера 0.5953109072375127\n",
      "AUC-ROC 0.8240212861195628\n"
     ]
    }
   ],
   "source": [
    "# Создадим цикл, в котором переберём модели случайного леса с количеством деревьев от 10 до 201 с шагом 10\n",
    "\n",
    "best_model = None\n",
    "best_f1 = 0\n",
    "best_auc_roc = 0\n",
    "\n",
    "for est in range(10, 201, 10):\n",
    "    model_dt = DecisionTreeClassifier(random_state=12345, max_depth=5)\n",
    "    model_dt.fit(features_downsampled, target_downsampled)\n",
    "    predictions_dt = model_dt.predict(features_valid)\n",
    "    f1 = f1_score(target_valid, predictions_dt)\n",
    "    probabilities_valid = model_dt.predict_proba(features_valid)\n",
    "    auc_roc = roc_auc_score(target_valid, probabilities_valid[:, 1])\n",
    "    \n",
    "    if f1 > best_f1:\n",
    "        best_model = model_dt\n",
    "        best_f1 = f1\n",
    "        best_est = est\n",
    "        best_auc_roc = auc_roc\n",
    "\n",
    "print('Количество деревьев:', best_est)\n",
    "print('F1-мера', best_f1)\n",
    "print('AUC-ROC', best_auc_roc)\n"
   ]
  },
  {
   "cell_type": "markdown",
   "metadata": {},
   "source": [
    "#### Случайный лес"
   ]
  },
  {
   "cell_type": "code",
   "execution_count": 36,
   "metadata": {},
   "outputs": [
    {
     "name": "stdout",
     "output_type": "stream",
     "text": [
      "Глубина дерева: 7\n",
      "Наилучшей модели \"случайный лес\": 0.6026871401151631\n"
     ]
    }
   ],
   "source": [
    "# Обучим модель случайного леса на новых данных. Найдём значение F1-меры Логистическая регрессия\n",
    "\n",
    "best_result = 0\n",
    "for depth in range(1, 30, 1):\n",
    "    model_rf = RandomForestClassifier(n_estimators=20, max_depth=depth, random_state=12345)\n",
    "    model_rf.fit(features_downsampled, target_downsampled)\n",
    "    predictions_rf = model_rf.predict(features_valid)\n",
    "    result = f1_score(target_valid, predictions_rf)\n",
    "    if result > best_result:\n",
    "        best_result = result\n",
    "        best_depth = depth\n",
    "print('Глубина дерева:', best_depth)\n",
    "print('Наилучшей модели \"случайный лес\":', best_result)"
   ]
  },
  {
   "cell_type": "code",
   "execution_count": 37,
   "metadata": {},
   "outputs": [
    {
     "name": "stdout",
     "output_type": "stream",
     "text": [
      "Количество деревьев: 30\n",
      "F1-мера 0.606060606060606\n",
      "AUC-ROC 0.8498849194587433\n"
     ]
    }
   ],
   "source": [
    "# Создадим цикл, в котором переберём модели случайного леса с количеством деревьев от 10 до 201 с шагом 10\n",
    "\n",
    "best_model = None\n",
    "best_f1 = 0\n",
    "best_auc_roc = 0\n",
    "\n",
    "for est in range(10, 201, 10):\n",
    "    model_rf = RandomForestClassifier(random_state=12345, n_estimators=est, max_depth=7)\n",
    "    model_rf.fit(features_downsampled, target_downsampled)\n",
    "    predictions_rf = model_rf.predict(features_valid)\n",
    "    f1 = f1_score(target_valid, predictions_rf)\n",
    "    probabilities_valid = model_rf.predict_proba(features_valid)\n",
    "    auc_roc = roc_auc_score(target_valid, probabilities_valid[:, 1])\n",
    "    if f1 > best_f1:\n",
    "        best_model = model_rf\n",
    "        best_f1 = f1\n",
    "        best_est = est\n",
    "        best_auc_roc = auc_roc\n",
    "\n",
    "print('Количество деревьев:', best_est)\n",
    "print('F1-мера', best_f1)\n",
    "print('AUC-ROC', best_auc_roc)\n"
   ]
  },
  {
   "cell_type": "markdown",
   "metadata": {},
   "source": [
    "#### Логистическая регрессия"
   ]
  },
  {
   "cell_type": "code",
   "execution_count": 38,
   "metadata": {},
   "outputs": [
    {
     "name": "stdout",
     "output_type": "stream",
     "text": [
      "F1-мера \"Логистическая регрессия\": 0.4888507718696398\n",
      "AUC-ROC 0.6945753361682564\n"
     ]
    }
   ],
   "source": [
    "# Обучим модель на новых данных. Найдём значение F1-меры и ROC-AUC.\n",
    "\n",
    "model_lr = LogisticRegression(random_state=12345, solver='liblinear')\n",
    "model_lr.fit(features_downsampled, target_downsampled)\n",
    "predictions_lr= model_lr.predict(features_valid)\n",
    "best_result = f1_score(target_valid, predictions_lr)\n",
    "best_auc_roc = roc_auc_score(target_valid, predictions_lr)\n",
    "\n",
    "\n",
    "print('F1-мера \"Логистическая регрессия\":', best_result)\n",
    "print('AUC-ROC', best_auc_roc)\n"
   ]
  },
  {
   "cell_type": "code",
   "execution_count": 39,
   "metadata": {},
   "outputs": [
    {
     "name": "stdout",
     "output_type": "stream",
     "text": [
      "F1-мера 0.606060606060606\n",
      "AUC-ROC 0.6945753361682564\n"
     ]
    }
   ],
   "source": [
    "\n",
    "model_lr = LogisticRegression(random_state=12345, solver='liblinear')\n",
    "model_lr.fit(features_downsampled, target_downsampled)\n",
    "predictions_lr = model_lr.predict(features_valid)\n",
    "f1 = f1_score(target_valid, predictions_lr)\n",
    "probabilities_valid = model_lr.predict_proba(features_valid)\n",
    "auc_roc = roc_auc_score(target_valid, probabilities_valid[:, 1])\n",
    "    \n",
    "\n",
    "print('F1-мера', best_f1)\n",
    "print('AUC-ROC', best_auc_roc)\n"
   ]
  },
  {
   "cell_type": "markdown",
   "metadata": {},
   "source": [
    "#### Вывод"
   ]
  },
  {
   "cell_type": "markdown",
   "metadata": {},
   "source": [
    "\n",
    "\n",
    "* После применения методики downsampling получено значение F1-меры: \"дерево решений\"= 0.59, f1_score \"случайного леса\" =0.60 и у модели 'логистическая регрессия'= 0.60 \n",
    "* Значение AUC-ROC :  у модели дерево решений = 0.82, у случайного леса =0.84 и у модели 'логистическая регрессия'= 0.69 \n",
    "\n",
    "* Гиперпараметры модели: глубина леса у дерево решений = 5 и  количество деревьев = 10. глубина леса у случайного леса = 7 и  количество деревьев = 30\n",
    "\n",
    "* таким образом наилучшей модели это у модели **дерево решений**."
   ]
  },
  {
   "cell_type": "markdown",
   "metadata": {},
   "source": [
    "### Вывод"
   ]
  },
  {
   "cell_type": "markdown",
   "metadata": {},
   "source": [
    "* для борьбы с дисбалансом были применены: балансировка классов, увеличение и уменьшение выборки\n",
    "    \n",
    "* эффективней всего показала себя техника балансировки классов - её и применим при тестировании модели\n"
   ]
  },
  {
   "cell_type": "markdown",
   "metadata": {},
   "source": [
    "## Тестирование модели"
   ]
  },
  {
   "cell_type": "code",
   "execution_count": 40,
   "metadata": {},
   "outputs": [
    {
     "name": "stdout",
     "output_type": "stream",
     "text": [
      "F1-мера 0.6083499005964216\n",
      "AUC-ROC 0.8554584144716231\n"
     ]
    }
   ],
   "source": [
    "# Проверим на тестовой выборке качество модели 'случайный лес' \n",
    "model_rf = RandomForestClassifier(n_estimators=30, max_depth=7, random_state=12345)\n",
    "model_rf.fit(features_upsampled, target_upsampled)\n",
    "predictions_rf_test = model_rf.predict(features_test)\n",
    "probabilities_test = model_rf.predict_proba(features_test)\n",
    "\n",
    "print('F1-мера', f1_score(target_test, predictions_rf_test))\n",
    "print('AUC-ROC', roc_auc_score(target_test, probabilities_test[:, 1]))\n"
   ]
  },
  {
   "cell_type": "markdown",
   "metadata": {},
   "source": [
    "### Вывод"
   ]
  },
  {
   "cell_type": "markdown",
   "metadata": {},
   "source": [
    "* Выбранная модель и техника баласировки классов позволили достичь значения F1-меры 0.60\n",
    "\n",
    "* Значение AUC-ROC получилось равным 0.85, что также выше всех полученных ранее.\n"
   ]
  },
  {
   "cell_type": "markdown",
   "metadata": {},
   "source": [
    "## Общий вывод"
   ]
  },
  {
   "cell_type": "markdown",
   "metadata": {},
   "source": [
    "* Для проведения обучения, проверки моделей и тестирования лучшей модели исходный датафрейм был разделён на три выборки: **обучающую (60%), валидационную (20%) и тестовую (20%)**.\n",
    "\n",
    "* В исследовании участвовали три различные алгоритма классификации: дерево решений, случайный лес и логистическая регрессия.\n",
    "    \n",
    "* Для выбора оптимальной модели использовались две метрики классификации: F1-мера (это метрика качества классификации, являющаяся средним гармоническим полноты и точности) и AUC-ROC (метрика позволяющая выявить, как сильно наша модель отличается от случайной: значение AUC-ROC случайной модели)\n",
    "\n",
    "* Значение F1-меры при выборе модели оказалось наибольшим у **Случайного Леса**.\n",
    " \n",
    "\n",
    "* Для борьбы с дисбалансом классов были применены: балансировка классов, увеличение и уменьшение выборки.\n",
    "\n",
    "* Эффективней всего показала себя техника балансировки классов - её применили при тестировании модели\n",
    "\n",
    "* По итогам исследования можно сделать заключение о том, что для получения прогноза оттока клиентов наиболее подходящей моделью является модель Случайного Леса с глубиной 7 и количеством деревьев 30: значение F1-меры в тестовой выборке составило 0.60, расчётное значение AUC-ROC оказалось 0.85."
   ]
  }
 ],
 "metadata": {
  "ExecuteTimeLog": [
   {
    "duration": 1565,
    "start_time": "2023-01-21T12:01:42.419Z"
   },
   {
    "duration": 91,
    "start_time": "2023-01-21T12:01:46.743Z"
   },
   {
    "duration": 24,
    "start_time": "2023-01-21T12:01:58.915Z"
   },
   {
    "duration": 15,
    "start_time": "2023-01-21T12:02:28.686Z"
   },
   {
    "duration": 42,
    "start_time": "2023-01-21T12:02:48.983Z"
   },
   {
    "duration": 11,
    "start_time": "2023-01-21T12:03:40.567Z"
   },
   {
    "duration": 1546,
    "start_time": "2023-01-24T12:24:40.993Z"
   },
   {
    "duration": 84,
    "start_time": "2023-01-24T12:24:42.541Z"
   },
   {
    "duration": 15,
    "start_time": "2023-01-24T12:24:42.626Z"
   },
   {
    "duration": 56,
    "start_time": "2023-01-24T12:24:42.643Z"
   },
   {
    "duration": 14,
    "start_time": "2023-01-24T12:24:42.701Z"
   },
   {
    "duration": 29,
    "start_time": "2023-01-24T12:24:42.716Z"
   },
   {
    "duration": 1420,
    "start_time": "2023-01-24T14:32:40.456Z"
   },
   {
    "duration": 46,
    "start_time": "2023-01-24T14:32:41.878Z"
   },
   {
    "duration": 16,
    "start_time": "2023-01-24T14:32:41.926Z"
   },
   {
    "duration": 38,
    "start_time": "2023-01-24T14:32:41.944Z"
   },
   {
    "duration": 22,
    "start_time": "2023-01-24T14:32:41.984Z"
   },
   {
    "duration": 13,
    "start_time": "2023-01-24T14:32:42.008Z"
   },
   {
    "duration": 19,
    "start_time": "2023-01-24T14:40:30.502Z"
   },
   {
    "duration": 4,
    "start_time": "2023-01-24T14:51:43.255Z"
   },
   {
    "duration": 16,
    "start_time": "2023-01-24T14:52:03.592Z"
   },
   {
    "duration": 7,
    "start_time": "2023-01-24T14:52:17.037Z"
   },
   {
    "duration": 22,
    "start_time": "2023-01-24T14:54:42.375Z"
   },
   {
    "duration": 43,
    "start_time": "2023-01-24T14:59:29.961Z"
   },
   {
    "duration": 9,
    "start_time": "2023-01-24T15:14:35.096Z"
   },
   {
    "duration": 8,
    "start_time": "2023-01-24T15:14:41.810Z"
   },
   {
    "duration": 7,
    "start_time": "2023-01-24T15:14:44.422Z"
   },
   {
    "duration": 22,
    "start_time": "2023-01-24T15:14:49.896Z"
   },
   {
    "duration": 4,
    "start_time": "2023-01-24T15:14:53.367Z"
   },
   {
    "duration": 3,
    "start_time": "2023-01-24T15:14:58.613Z"
   },
   {
    "duration": 6,
    "start_time": "2023-01-24T15:23:39.927Z"
   },
   {
    "duration": 3,
    "start_time": "2023-01-24T15:23:43.684Z"
   },
   {
    "duration": 5,
    "start_time": "2023-01-24T15:23:57.884Z"
   },
   {
    "duration": 4,
    "start_time": "2023-01-24T15:24:00.689Z"
   },
   {
    "duration": 9,
    "start_time": "2023-01-24T15:24:07.503Z"
   },
   {
    "duration": 5,
    "start_time": "2023-01-24T15:24:10.650Z"
   },
   {
    "duration": 10,
    "start_time": "2023-01-24T15:24:28.413Z"
   },
   {
    "duration": 4,
    "start_time": "2023-01-24T15:24:30.852Z"
   },
   {
    "duration": 4,
    "start_time": "2023-01-24T15:24:40.717Z"
   },
   {
    "duration": 7,
    "start_time": "2023-01-24T15:24:43.969Z"
   },
   {
    "duration": 3,
    "start_time": "2023-01-24T15:24:46.308Z"
   },
   {
    "duration": 6,
    "start_time": "2023-01-24T15:24:51.721Z"
   },
   {
    "duration": 5,
    "start_time": "2023-01-24T15:24:54.314Z"
   },
   {
    "duration": 3,
    "start_time": "2023-01-24T15:24:57.681Z"
   },
   {
    "duration": 109,
    "start_time": "2023-01-24T15:26:40.524Z"
   },
   {
    "duration": 23,
    "start_time": "2023-01-24T15:29:15.751Z"
   },
   {
    "duration": 1714,
    "start_time": "2023-01-25T12:05:37.690Z"
   },
   {
    "duration": 180,
    "start_time": "2023-01-25T12:05:39.406Z"
   },
   {
    "duration": 25,
    "start_time": "2023-01-25T12:05:39.596Z"
   },
   {
    "duration": 64,
    "start_time": "2023-01-25T12:05:39.623Z"
   },
   {
    "duration": 26,
    "start_time": "2023-01-25T12:05:39.689Z"
   },
   {
    "duration": 30,
    "start_time": "2023-01-25T12:05:39.717Z"
   },
   {
    "duration": 55,
    "start_time": "2023-01-25T12:05:39.749Z"
   },
   {
    "duration": 18,
    "start_time": "2023-01-25T12:05:39.806Z"
   },
   {
    "duration": 40,
    "start_time": "2023-01-25T12:05:39.826Z"
   },
   {
    "duration": 7,
    "start_time": "2023-01-25T12:05:39.869Z"
   },
   {
    "duration": 38,
    "start_time": "2023-01-25T12:05:39.878Z"
   },
   {
    "duration": 20,
    "start_time": "2023-01-25T12:05:39.918Z"
   },
   {
    "duration": 15,
    "start_time": "2023-01-25T12:05:39.940Z"
   },
   {
    "duration": 15,
    "start_time": "2023-01-25T12:05:39.956Z"
   },
   {
    "duration": 35,
    "start_time": "2023-01-25T12:05:39.973Z"
   },
   {
    "duration": 36,
    "start_time": "2023-01-25T12:05:40.010Z"
   },
   {
    "duration": 201,
    "start_time": "2023-01-25T12:07:25.373Z"
   },
   {
    "duration": 209,
    "start_time": "2023-01-25T12:07:54.256Z"
   },
   {
    "duration": 220,
    "start_time": "2023-01-25T12:25:05.160Z"
   },
   {
    "duration": 282,
    "start_time": "2023-01-25T12:32:06.573Z"
   },
   {
    "duration": 153,
    "start_time": "2023-01-25T12:34:20.112Z"
   },
   {
    "duration": 133,
    "start_time": "2023-01-25T12:34:34.922Z"
   },
   {
    "duration": 176,
    "start_time": "2023-01-25T12:34:40.468Z"
   },
   {
    "duration": 122,
    "start_time": "2023-01-25T12:35:24.436Z"
   },
   {
    "duration": 173,
    "start_time": "2023-01-25T12:42:52.159Z"
   },
   {
    "duration": 266,
    "start_time": "2023-01-25T12:43:12.069Z"
   },
   {
    "duration": 136,
    "start_time": "2023-01-25T12:43:32.997Z"
   },
   {
    "duration": 172,
    "start_time": "2023-01-25T12:49:40.496Z"
   },
   {
    "duration": 129,
    "start_time": "2023-01-25T12:49:58.293Z"
   },
   {
    "duration": 3034,
    "start_time": "2023-01-25T12:50:55.453Z"
   },
   {
    "duration": 12,
    "start_time": "2023-01-25T12:53:17.397Z"
   },
   {
    "duration": 16,
    "start_time": "2023-01-25T12:53:31.017Z"
   },
   {
    "duration": 19,
    "start_time": "2023-01-25T12:58:07.260Z"
   },
   {
    "duration": 31,
    "start_time": "2023-01-25T12:58:50.929Z"
   },
   {
    "duration": 31,
    "start_time": "2023-01-25T12:59:32.105Z"
   },
   {
    "duration": 21,
    "start_time": "2023-01-25T13:00:25.732Z"
   },
   {
    "duration": 1641,
    "start_time": "2023-01-25T13:02:02.467Z"
   },
   {
    "duration": 47,
    "start_time": "2023-01-25T13:02:04.111Z"
   },
   {
    "duration": 22,
    "start_time": "2023-01-25T13:02:04.160Z"
   },
   {
    "duration": 47,
    "start_time": "2023-01-25T13:02:04.185Z"
   },
   {
    "duration": 14,
    "start_time": "2023-01-25T13:02:04.234Z"
   },
   {
    "duration": 13,
    "start_time": "2023-01-25T13:02:04.250Z"
   },
   {
    "duration": 14,
    "start_time": "2023-01-25T13:02:04.282Z"
   },
   {
    "duration": 5,
    "start_time": "2023-01-25T13:02:04.298Z"
   },
   {
    "duration": 24,
    "start_time": "2023-01-25T13:02:04.305Z"
   },
   {
    "duration": 5,
    "start_time": "2023-01-25T13:02:04.332Z"
   },
   {
    "duration": 7,
    "start_time": "2023-01-25T13:02:04.339Z"
   },
   {
    "duration": 34,
    "start_time": "2023-01-25T13:02:04.348Z"
   },
   {
    "duration": 7,
    "start_time": "2023-01-25T13:02:04.385Z"
   },
   {
    "duration": 19,
    "start_time": "2023-01-25T13:02:04.393Z"
   },
   {
    "duration": 19,
    "start_time": "2023-01-25T13:02:04.413Z"
   },
   {
    "duration": 44,
    "start_time": "2023-01-25T13:02:04.433Z"
   },
   {
    "duration": 181,
    "start_time": "2023-01-25T13:02:04.479Z"
   },
   {
    "duration": 269,
    "start_time": "2023-01-25T13:02:04.662Z"
   },
   {
    "duration": 118,
    "start_time": "2023-01-25T13:02:04.933Z"
   },
   {
    "duration": 29,
    "start_time": "2023-01-25T13:02:31.716Z"
   },
   {
    "duration": 74,
    "start_time": "2023-01-25T13:18:30.019Z"
   },
   {
    "duration": 3809,
    "start_time": "2023-01-25T13:18:58.400Z"
   },
   {
    "duration": 248,
    "start_time": "2023-01-25T13:19:33.596Z"
   },
   {
    "duration": 3783,
    "start_time": "2023-01-25T13:19:48.921Z"
   },
   {
    "duration": 224,
    "start_time": "2023-01-25T13:20:27.215Z"
   },
   {
    "duration": 235,
    "start_time": "2023-01-25T13:21:02.485Z"
   },
   {
    "duration": 14855,
    "start_time": "2023-01-25T13:22:47.242Z"
   },
   {
    "duration": 164,
    "start_time": "2023-01-25T13:28:31.498Z"
   },
   {
    "duration": 14878,
    "start_time": "2023-01-25T13:33:03.451Z"
   },
   {
    "duration": 165,
    "start_time": "2023-01-25T13:33:18.331Z"
   },
   {
    "duration": 90,
    "start_time": "2023-01-25T13:36:47.093Z"
   },
   {
    "duration": 16,
    "start_time": "2023-01-25T13:37:37.692Z"
   },
   {
    "duration": 16,
    "start_time": "2023-01-25T13:38:25.317Z"
   },
   {
    "duration": 182,
    "start_time": "2023-01-25T13:39:05.626Z"
   },
   {
    "duration": 213,
    "start_time": "2023-01-25T13:39:13.507Z"
   },
   {
    "duration": 3857,
    "start_time": "2023-01-25T13:39:34.194Z"
   },
   {
    "duration": 15401,
    "start_time": "2023-01-25T13:39:58.594Z"
   },
   {
    "duration": 163,
    "start_time": "2023-01-25T13:40:13.997Z"
   },
   {
    "duration": 19,
    "start_time": "2023-01-25T13:41:08.910Z"
   },
   {
    "duration": 168,
    "start_time": "2023-01-25T15:05:13.194Z"
   },
   {
    "duration": 3717,
    "start_time": "2023-01-25T15:06:53.163Z"
   },
   {
    "duration": 86,
    "start_time": "2023-01-25T15:12:33.462Z"
   },
   {
    "duration": 1480,
    "start_time": "2023-01-25T15:14:47.985Z"
   },
   {
    "duration": 40,
    "start_time": "2023-01-25T15:14:49.467Z"
   },
   {
    "duration": 17,
    "start_time": "2023-01-25T15:14:49.508Z"
   },
   {
    "duration": 45,
    "start_time": "2023-01-25T15:14:49.527Z"
   },
   {
    "duration": 16,
    "start_time": "2023-01-25T15:14:49.581Z"
   },
   {
    "duration": 18,
    "start_time": "2023-01-25T15:14:49.599Z"
   },
   {
    "duration": 16,
    "start_time": "2023-01-25T15:14:49.618Z"
   },
   {
    "duration": 5,
    "start_time": "2023-01-25T15:14:49.636Z"
   },
   {
    "duration": 62,
    "start_time": "2023-01-25T15:14:49.643Z"
   },
   {
    "duration": 6,
    "start_time": "2023-01-25T15:14:49.709Z"
   },
   {
    "duration": 11,
    "start_time": "2023-01-25T15:14:49.717Z"
   },
   {
    "duration": 7,
    "start_time": "2023-01-25T15:14:49.730Z"
   },
   {
    "duration": 8,
    "start_time": "2023-01-25T15:14:49.739Z"
   },
   {
    "duration": 8,
    "start_time": "2023-01-25T15:14:49.749Z"
   },
   {
    "duration": 26,
    "start_time": "2023-01-25T15:14:49.758Z"
   },
   {
    "duration": 27,
    "start_time": "2023-01-25T15:14:49.785Z"
   },
   {
    "duration": 214,
    "start_time": "2023-01-25T15:14:49.814Z"
   },
   {
    "duration": 183,
    "start_time": "2023-01-25T15:14:50.030Z"
   },
   {
    "duration": 3744,
    "start_time": "2023-01-25T15:14:50.215Z"
   },
   {
    "duration": 14830,
    "start_time": "2023-01-25T15:14:53.961Z"
   },
   {
    "duration": 158,
    "start_time": "2023-01-25T15:15:08.793Z"
   },
   {
    "duration": 282,
    "start_time": "2023-01-25T15:15:08.954Z"
   },
   {
    "duration": 62,
    "start_time": "2023-01-25T15:16:38.953Z"
   },
   {
    "duration": 26,
    "start_time": "2023-01-25T15:18:19.436Z"
   },
   {
    "duration": 37,
    "start_time": "2023-01-25T15:20:19.854Z"
   },
   {
    "duration": 18,
    "start_time": "2023-01-25T15:20:30.301Z"
   },
   {
    "duration": 82,
    "start_time": "2023-01-25T15:22:17.013Z"
   },
   {
    "duration": 1409,
    "start_time": "2023-01-25T15:24:35.552Z"
   },
   {
    "duration": 41,
    "start_time": "2023-01-25T15:24:36.963Z"
   },
   {
    "duration": 21,
    "start_time": "2023-01-25T15:24:37.006Z"
   },
   {
    "duration": 40,
    "start_time": "2023-01-25T15:24:37.029Z"
   },
   {
    "duration": 20,
    "start_time": "2023-01-25T15:24:37.071Z"
   },
   {
    "duration": 11,
    "start_time": "2023-01-25T15:24:37.092Z"
   },
   {
    "duration": 13,
    "start_time": "2023-01-25T15:24:37.105Z"
   },
   {
    "duration": 4,
    "start_time": "2023-01-25T15:24:37.119Z"
   },
   {
    "duration": 20,
    "start_time": "2023-01-25T15:24:37.125Z"
   },
   {
    "duration": 37,
    "start_time": "2023-01-25T15:24:37.148Z"
   },
   {
    "duration": 8,
    "start_time": "2023-01-25T15:24:37.186Z"
   },
   {
    "duration": 6,
    "start_time": "2023-01-25T15:24:37.195Z"
   },
   {
    "duration": 9,
    "start_time": "2023-01-25T15:24:37.203Z"
   },
   {
    "duration": 4,
    "start_time": "2023-01-25T15:24:37.213Z"
   },
   {
    "duration": 5,
    "start_time": "2023-01-25T15:24:37.219Z"
   },
   {
    "duration": 25,
    "start_time": "2023-01-25T15:24:37.226Z"
   },
   {
    "duration": 196,
    "start_time": "2023-01-25T15:24:37.252Z"
   },
   {
    "duration": 147,
    "start_time": "2023-01-25T15:24:37.449Z"
   },
   {
    "duration": 3548,
    "start_time": "2023-01-25T15:24:37.597Z"
   },
   {
    "duration": 14056,
    "start_time": "2023-01-25T15:24:41.146Z"
   },
   {
    "duration": 149,
    "start_time": "2023-01-25T15:24:55.204Z"
   },
   {
    "duration": 28,
    "start_time": "2023-01-25T15:24:55.355Z"
   },
   {
    "duration": 1549,
    "start_time": "2023-01-26T12:24:32.023Z"
   },
   {
    "duration": 174,
    "start_time": "2023-01-26T12:24:33.574Z"
   },
   {
    "duration": 19,
    "start_time": "2023-01-26T12:24:33.750Z"
   },
   {
    "duration": 40,
    "start_time": "2023-01-26T12:24:33.771Z"
   },
   {
    "duration": 11,
    "start_time": "2023-01-26T12:24:33.812Z"
   },
   {
    "duration": 32,
    "start_time": "2023-01-26T12:24:33.825Z"
   },
   {
    "duration": 12,
    "start_time": "2023-01-26T12:24:33.859Z"
   },
   {
    "duration": 5,
    "start_time": "2023-01-26T12:24:33.873Z"
   },
   {
    "duration": 23,
    "start_time": "2023-01-26T12:24:33.880Z"
   },
   {
    "duration": 42,
    "start_time": "2023-01-26T12:24:33.906Z"
   },
   {
    "duration": 6,
    "start_time": "2023-01-26T12:24:33.950Z"
   },
   {
    "duration": 6,
    "start_time": "2023-01-26T12:24:33.957Z"
   },
   {
    "duration": 7,
    "start_time": "2023-01-26T12:24:33.966Z"
   },
   {
    "duration": 10,
    "start_time": "2023-01-26T12:24:33.974Z"
   },
   {
    "duration": 6,
    "start_time": "2023-01-26T12:24:33.986Z"
   },
   {
    "duration": 27,
    "start_time": "2023-01-26T12:24:33.994Z"
   },
   {
    "duration": 194,
    "start_time": "2023-01-26T12:24:34.023Z"
   },
   {
    "duration": 155,
    "start_time": "2023-01-26T12:24:34.219Z"
   },
   {
    "duration": 3455,
    "start_time": "2023-01-26T12:24:34.375Z"
   },
   {
    "duration": 14048,
    "start_time": "2023-01-26T12:24:37.831Z"
   },
   {
    "duration": 158,
    "start_time": "2023-01-26T12:24:51.882Z"
   },
   {
    "duration": 21,
    "start_time": "2023-01-26T12:24:52.042Z"
   },
   {
    "duration": 8,
    "start_time": "2023-01-26T12:35:31.234Z"
   },
   {
    "duration": 1350,
    "start_time": "2023-01-26T12:37:30.163Z"
   },
   {
    "duration": 43,
    "start_time": "2023-01-26T12:37:31.515Z"
   },
   {
    "duration": 20,
    "start_time": "2023-01-26T12:37:31.560Z"
   },
   {
    "duration": 38,
    "start_time": "2023-01-26T12:37:31.582Z"
   },
   {
    "duration": 39,
    "start_time": "2023-01-26T12:37:31.623Z"
   },
   {
    "duration": 21,
    "start_time": "2023-01-26T12:37:31.663Z"
   },
   {
    "duration": 16,
    "start_time": "2023-01-26T12:37:31.685Z"
   },
   {
    "duration": 4,
    "start_time": "2023-01-26T12:37:31.703Z"
   },
   {
    "duration": 49,
    "start_time": "2023-01-26T12:37:31.708Z"
   },
   {
    "duration": 11,
    "start_time": "2023-01-26T12:37:31.759Z"
   },
   {
    "duration": 21,
    "start_time": "2023-01-26T12:37:31.771Z"
   },
   {
    "duration": 13,
    "start_time": "2023-01-26T12:37:31.794Z"
   },
   {
    "duration": 9,
    "start_time": "2023-01-26T12:37:31.809Z"
   },
   {
    "duration": 4,
    "start_time": "2023-01-26T12:37:31.820Z"
   },
   {
    "duration": 7,
    "start_time": "2023-01-26T12:37:31.825Z"
   },
   {
    "duration": 136,
    "start_time": "2023-01-26T12:37:31.833Z"
   },
   {
    "duration": 0,
    "start_time": "2023-01-26T12:37:31.974Z"
   },
   {
    "duration": 0,
    "start_time": "2023-01-26T12:37:31.975Z"
   },
   {
    "duration": 0,
    "start_time": "2023-01-26T12:37:31.977Z"
   },
   {
    "duration": 0,
    "start_time": "2023-01-26T12:37:31.978Z"
   },
   {
    "duration": 0,
    "start_time": "2023-01-26T12:37:31.979Z"
   },
   {
    "duration": 0,
    "start_time": "2023-01-26T12:37:31.982Z"
   },
   {
    "duration": 0,
    "start_time": "2023-01-26T12:37:31.983Z"
   },
   {
    "duration": 1445,
    "start_time": "2023-01-26T12:38:27.233Z"
   },
   {
    "duration": 39,
    "start_time": "2023-01-26T12:38:28.680Z"
   },
   {
    "duration": 15,
    "start_time": "2023-01-26T12:38:28.720Z"
   },
   {
    "duration": 49,
    "start_time": "2023-01-26T12:38:28.737Z"
   },
   {
    "duration": 14,
    "start_time": "2023-01-26T12:38:28.787Z"
   },
   {
    "duration": 25,
    "start_time": "2023-01-26T12:38:28.802Z"
   },
   {
    "duration": 32,
    "start_time": "2023-01-26T12:38:28.829Z"
   },
   {
    "duration": 23,
    "start_time": "2023-01-26T12:38:28.864Z"
   },
   {
    "duration": 33,
    "start_time": "2023-01-26T12:38:28.889Z"
   },
   {
    "duration": 5,
    "start_time": "2023-01-26T12:38:28.924Z"
   },
   {
    "duration": 9,
    "start_time": "2023-01-26T12:38:28.931Z"
   },
   {
    "duration": 9,
    "start_time": "2023-01-26T12:38:28.942Z"
   },
   {
    "duration": 37,
    "start_time": "2023-01-26T12:38:28.953Z"
   },
   {
    "duration": 37,
    "start_time": "2023-01-26T12:38:28.992Z"
   },
   {
    "duration": 30,
    "start_time": "2023-01-26T12:38:29.031Z"
   },
   {
    "duration": 42,
    "start_time": "2023-01-26T12:38:29.063Z"
   },
   {
    "duration": 173,
    "start_time": "2023-01-26T12:38:29.107Z"
   },
   {
    "duration": 130,
    "start_time": "2023-01-26T12:38:29.282Z"
   },
   {
    "duration": 3512,
    "start_time": "2023-01-26T12:38:29.414Z"
   },
   {
    "duration": 14260,
    "start_time": "2023-01-26T12:38:32.927Z"
   },
   {
    "duration": 142,
    "start_time": "2023-01-26T12:38:47.189Z"
   },
   {
    "duration": 31,
    "start_time": "2023-01-26T12:38:47.333Z"
   },
   {
    "duration": 186,
    "start_time": "2023-01-26T12:38:47.366Z"
   },
   {
    "duration": 36,
    "start_time": "2023-01-26T12:46:02.123Z"
   },
   {
    "duration": 71,
    "start_time": "2023-01-26T12:52:40.768Z"
   },
   {
    "duration": 76,
    "start_time": "2023-01-26T12:54:38.225Z"
   },
   {
    "duration": 14,
    "start_time": "2023-01-26T12:55:19.611Z"
   },
   {
    "duration": 424,
    "start_time": "2023-01-26T12:55:36.719Z"
   },
   {
    "duration": 406,
    "start_time": "2023-01-26T12:57:12.309Z"
   },
   {
    "duration": 138,
    "start_time": "2023-01-26T13:00:01.759Z"
   },
   {
    "duration": 628,
    "start_time": "2023-01-26T13:00:22.571Z"
   },
   {
    "duration": 395,
    "start_time": "2023-01-26T13:03:51.707Z"
   },
   {
    "duration": 16,
    "start_time": "2023-01-26T13:04:44.971Z"
   },
   {
    "duration": 762,
    "start_time": "2023-01-26T13:04:53.942Z"
   },
   {
    "duration": 390,
    "start_time": "2023-01-26T13:05:43.626Z"
   },
   {
    "duration": 630,
    "start_time": "2023-01-26T13:06:05.989Z"
   },
   {
    "duration": 417,
    "start_time": "2023-01-26T13:07:40.870Z"
   },
   {
    "duration": 39,
    "start_time": "2023-01-26T13:10:34.163Z"
   },
   {
    "duration": 407,
    "start_time": "2023-01-26T13:11:00.872Z"
   },
   {
    "duration": 101,
    "start_time": "2023-01-26T13:22:05.799Z"
   },
   {
    "duration": 9,
    "start_time": "2023-01-26T15:02:31.017Z"
   },
   {
    "duration": 911,
    "start_time": "2023-01-26T15:05:23.416Z"
   },
   {
    "duration": 82,
    "start_time": "2023-01-26T15:20:19.058Z"
   },
   {
    "duration": 131,
    "start_time": "2023-01-26T15:20:44.223Z"
   },
   {
    "duration": 3388,
    "start_time": "2023-01-26T15:25:33.965Z"
   },
   {
    "duration": 78,
    "start_time": "2023-01-26T15:27:25.424Z"
   },
   {
    "duration": 80,
    "start_time": "2023-01-26T15:27:38.181Z"
   },
   {
    "duration": 12777,
    "start_time": "2023-01-26T15:27:48.507Z"
   },
   {
    "duration": 10764,
    "start_time": "2023-01-26T15:29:20.952Z"
   },
   {
    "duration": 9,
    "start_time": "2023-01-26T15:30:37.065Z"
   },
   {
    "duration": 4464,
    "start_time": "2023-01-26T15:32:12.104Z"
   },
   {
    "duration": 14903,
    "start_time": "2023-01-26T15:35:55.266Z"
   },
   {
    "duration": 9,
    "start_time": "2023-01-26T15:37:03.826Z"
   },
   {
    "duration": 1900,
    "start_time": "2023-01-26T15:37:04.059Z"
   },
   {
    "duration": 1921,
    "start_time": "2023-01-26T15:38:26.235Z"
   },
   {
    "duration": 5682,
    "start_time": "2023-01-26T15:39:34.668Z"
   },
   {
    "duration": 70,
    "start_time": "2023-01-26T15:40:39.375Z"
   },
   {
    "duration": 1448,
    "start_time": "2023-01-27T11:51:47.112Z"
   },
   {
    "duration": 74,
    "start_time": "2023-01-27T11:51:48.562Z"
   },
   {
    "duration": 16,
    "start_time": "2023-01-27T11:51:48.638Z"
   },
   {
    "duration": 43,
    "start_time": "2023-01-27T11:51:48.656Z"
   },
   {
    "duration": 10,
    "start_time": "2023-01-27T11:51:48.701Z"
   },
   {
    "duration": 18,
    "start_time": "2023-01-27T11:51:48.713Z"
   },
   {
    "duration": 28,
    "start_time": "2023-01-27T11:51:48.732Z"
   },
   {
    "duration": 6,
    "start_time": "2023-01-27T11:51:48.761Z"
   },
   {
    "duration": 36,
    "start_time": "2023-01-27T11:51:48.768Z"
   },
   {
    "duration": 5,
    "start_time": "2023-01-27T11:51:48.806Z"
   },
   {
    "duration": 21,
    "start_time": "2023-01-27T11:51:48.812Z"
   },
   {
    "duration": 26,
    "start_time": "2023-01-27T11:51:48.835Z"
   },
   {
    "duration": 21,
    "start_time": "2023-01-27T11:51:48.863Z"
   },
   {
    "duration": 37,
    "start_time": "2023-01-27T11:51:48.885Z"
   },
   {
    "duration": 16,
    "start_time": "2023-01-27T11:51:48.923Z"
   },
   {
    "duration": 39,
    "start_time": "2023-01-27T11:51:48.940Z"
   },
   {
    "duration": 154,
    "start_time": "2023-01-27T11:51:48.980Z"
   },
   {
    "duration": 128,
    "start_time": "2023-01-27T11:51:49.135Z"
   },
   {
    "duration": 3207,
    "start_time": "2023-01-27T11:51:49.265Z"
   },
   {
    "duration": 12801,
    "start_time": "2023-01-27T11:51:52.474Z"
   },
   {
    "duration": 125,
    "start_time": "2023-01-27T11:52:05.276Z"
   },
   {
    "duration": 83,
    "start_time": "2023-01-27T11:52:05.403Z"
   },
   {
    "duration": 105,
    "start_time": "2023-01-27T11:52:05.488Z"
   },
   {
    "duration": 158,
    "start_time": "2023-01-27T11:52:05.595Z"
   },
   {
    "duration": 3227,
    "start_time": "2023-01-27T11:52:05.755Z"
   },
   {
    "duration": 10521,
    "start_time": "2023-01-27T11:52:08.986Z"
   },
   {
    "duration": 8,
    "start_time": "2023-01-27T11:52:19.509Z"
   },
   {
    "duration": 4219,
    "start_time": "2023-01-27T11:52:19.520Z"
   },
   {
    "duration": 13248,
    "start_time": "2023-01-27T11:52:23.741Z"
   },
   {
    "duration": 8,
    "start_time": "2023-01-27T11:52:36.990Z"
   },
   {
    "duration": 1773,
    "start_time": "2023-01-27T11:52:37.000Z"
   },
   {
    "duration": 140,
    "start_time": "2023-01-27T11:52:38.774Z"
   },
   {
    "duration": 0,
    "start_time": "2023-01-27T11:52:38.915Z"
   },
   {
    "duration": 0,
    "start_time": "2023-01-27T11:52:38.917Z"
   },
   {
    "duration": 0,
    "start_time": "2023-01-27T11:52:38.918Z"
   },
   {
    "duration": 0,
    "start_time": "2023-01-27T11:52:38.919Z"
   },
   {
    "duration": 12848,
    "start_time": "2023-01-27T11:53:17.026Z"
   },
   {
    "duration": 1223,
    "start_time": "2023-01-27T11:55:38.246Z"
   },
   {
    "duration": 33,
    "start_time": "2023-01-27T11:55:39.471Z"
   },
   {
    "duration": 15,
    "start_time": "2023-01-27T11:55:39.506Z"
   },
   {
    "duration": 55,
    "start_time": "2023-01-27T11:55:39.522Z"
   },
   {
    "duration": 10,
    "start_time": "2023-01-27T11:55:39.578Z"
   },
   {
    "duration": 13,
    "start_time": "2023-01-27T11:55:39.590Z"
   },
   {
    "duration": 21,
    "start_time": "2023-01-27T11:55:39.604Z"
   },
   {
    "duration": 8,
    "start_time": "2023-01-27T11:55:39.626Z"
   },
   {
    "duration": 45,
    "start_time": "2023-01-27T11:55:39.635Z"
   },
   {
    "duration": 17,
    "start_time": "2023-01-27T11:55:39.682Z"
   },
   {
    "duration": 40,
    "start_time": "2023-01-27T11:55:39.701Z"
   },
   {
    "duration": 21,
    "start_time": "2023-01-27T11:55:39.742Z"
   },
   {
    "duration": 13,
    "start_time": "2023-01-27T11:55:39.764Z"
   },
   {
    "duration": 19,
    "start_time": "2023-01-27T11:55:39.779Z"
   },
   {
    "duration": 11,
    "start_time": "2023-01-27T11:55:39.800Z"
   },
   {
    "duration": 30,
    "start_time": "2023-01-27T11:55:39.813Z"
   },
   {
    "duration": 146,
    "start_time": "2023-01-27T11:55:39.845Z"
   },
   {
    "duration": 128,
    "start_time": "2023-01-27T11:55:39.993Z"
   },
   {
    "duration": 3131,
    "start_time": "2023-01-27T11:55:40.122Z"
   },
   {
    "duration": 12788,
    "start_time": "2023-01-27T11:55:43.255Z"
   },
   {
    "duration": 122,
    "start_time": "2023-01-27T11:55:56.044Z"
   },
   {
    "duration": 26,
    "start_time": "2023-01-27T11:55:56.167Z"
   },
   {
    "duration": 96,
    "start_time": "2023-01-27T11:55:56.194Z"
   },
   {
    "duration": 219,
    "start_time": "2023-01-27T11:55:56.292Z"
   },
   {
    "duration": 3087,
    "start_time": "2023-01-27T11:55:56.513Z"
   },
   {
    "duration": 10005,
    "start_time": "2023-01-27T11:55:59.602Z"
   },
   {
    "duration": 8,
    "start_time": "2023-01-27T11:56:09.608Z"
   },
   {
    "duration": 4148,
    "start_time": "2023-01-27T11:56:09.618Z"
   },
   {
    "duration": 13120,
    "start_time": "2023-01-27T11:56:13.768Z"
   },
   {
    "duration": 8,
    "start_time": "2023-01-27T11:56:26.890Z"
   },
   {
    "duration": 1707,
    "start_time": "2023-01-27T11:56:26.899Z"
   },
   {
    "duration": 5758,
    "start_time": "2023-01-27T11:56:28.608Z"
   },
   {
    "duration": 41,
    "start_time": "2023-01-27T11:56:34.368Z"
   },
   {
    "duration": 0,
    "start_time": "2023-01-27T11:56:34.411Z"
   },
   {
    "duration": 0,
    "start_time": "2023-01-27T11:56:34.412Z"
   },
   {
    "duration": 0,
    "start_time": "2023-01-27T11:56:34.412Z"
   },
   {
    "duration": 95,
    "start_time": "2023-01-27T12:02:48.224Z"
   },
   {
    "duration": 1517,
    "start_time": "2023-01-27T13:49:09.834Z"
   },
   {
    "duration": 186,
    "start_time": "2023-01-27T13:49:11.353Z"
   },
   {
    "duration": 20,
    "start_time": "2023-01-27T13:49:11.541Z"
   },
   {
    "duration": 50,
    "start_time": "2023-01-27T13:49:11.563Z"
   },
   {
    "duration": 12,
    "start_time": "2023-01-27T13:49:11.615Z"
   },
   {
    "duration": 28,
    "start_time": "2023-01-27T13:49:11.629Z"
   },
   {
    "duration": 18,
    "start_time": "2023-01-27T13:49:11.658Z"
   },
   {
    "duration": 19,
    "start_time": "2023-01-27T13:49:11.681Z"
   },
   {
    "duration": 46,
    "start_time": "2023-01-27T13:49:11.702Z"
   },
   {
    "duration": 5,
    "start_time": "2023-01-27T13:49:11.751Z"
   },
   {
    "duration": 21,
    "start_time": "2023-01-27T13:49:11.758Z"
   },
   {
    "duration": 10,
    "start_time": "2023-01-27T13:49:11.781Z"
   },
   {
    "duration": 19,
    "start_time": "2023-01-27T13:49:11.792Z"
   },
   {
    "duration": 24,
    "start_time": "2023-01-27T13:49:11.813Z"
   },
   {
    "duration": 12,
    "start_time": "2023-01-27T13:49:11.839Z"
   },
   {
    "duration": 49,
    "start_time": "2023-01-27T13:49:11.853Z"
   },
   {
    "duration": 167,
    "start_time": "2023-01-27T13:49:11.904Z"
   },
   {
    "duration": 150,
    "start_time": "2023-01-27T13:49:12.073Z"
   },
   {
    "duration": 3589,
    "start_time": "2023-01-27T13:49:12.225Z"
   },
   {
    "duration": 14436,
    "start_time": "2023-01-27T13:49:15.816Z"
   },
   {
    "duration": 154,
    "start_time": "2023-01-27T13:49:30.253Z"
   },
   {
    "duration": 78,
    "start_time": "2023-01-27T13:49:30.409Z"
   },
   {
    "duration": 97,
    "start_time": "2023-01-27T13:49:30.490Z"
   },
   {
    "duration": 190,
    "start_time": "2023-01-27T13:49:30.589Z"
   },
   {
    "duration": 3620,
    "start_time": "2023-01-27T13:49:30.781Z"
   },
   {
    "duration": 11178,
    "start_time": "2023-01-27T13:49:34.403Z"
   },
   {
    "duration": 10,
    "start_time": "2023-01-27T13:49:45.583Z"
   },
   {
    "duration": 4717,
    "start_time": "2023-01-27T13:49:45.596Z"
   },
   {
    "duration": 15371,
    "start_time": "2023-01-27T13:49:50.315Z"
   },
   {
    "duration": 11,
    "start_time": "2023-01-27T13:50:05.688Z"
   },
   {
    "duration": 2015,
    "start_time": "2023-01-27T13:50:05.701Z"
   },
   {
    "duration": 6345,
    "start_time": "2023-01-27T13:50:07.718Z"
   },
   {
    "duration": 120,
    "start_time": "2023-01-27T13:50:14.064Z"
   },
   {
    "duration": 0,
    "start_time": "2023-01-27T13:50:14.186Z"
   },
   {
    "duration": 0,
    "start_time": "2023-01-27T13:50:14.188Z"
   },
   {
    "duration": 260,
    "start_time": "2023-01-27T13:51:27.559Z"
   },
   {
    "duration": 1496,
    "start_time": "2023-01-27T14:25:51.657Z"
   },
   {
    "duration": 43,
    "start_time": "2023-01-27T14:25:53.155Z"
   },
   {
    "duration": 16,
    "start_time": "2023-01-27T14:25:53.200Z"
   },
   {
    "duration": 63,
    "start_time": "2023-01-27T14:25:53.219Z"
   },
   {
    "duration": 14,
    "start_time": "2023-01-27T14:25:53.283Z"
   },
   {
    "duration": 13,
    "start_time": "2023-01-27T14:25:53.299Z"
   },
   {
    "duration": 15,
    "start_time": "2023-01-27T14:25:53.313Z"
   },
   {
    "duration": 4,
    "start_time": "2023-01-27T14:25:53.330Z"
   },
   {
    "duration": 56,
    "start_time": "2023-01-27T14:25:53.336Z"
   },
   {
    "duration": 5,
    "start_time": "2023-01-27T14:25:53.395Z"
   },
   {
    "duration": 7,
    "start_time": "2023-01-27T14:25:53.402Z"
   },
   {
    "duration": 7,
    "start_time": "2023-01-27T14:25:53.411Z"
   },
   {
    "duration": 8,
    "start_time": "2023-01-27T14:25:53.420Z"
   },
   {
    "duration": 7,
    "start_time": "2023-01-27T14:25:53.429Z"
   },
   {
    "duration": 7,
    "start_time": "2023-01-27T14:25:53.439Z"
   },
   {
    "duration": 59,
    "start_time": "2023-01-27T14:25:53.448Z"
   },
   {
    "duration": 187,
    "start_time": "2023-01-27T14:25:53.509Z"
   },
   {
    "duration": 139,
    "start_time": "2023-01-27T14:25:53.698Z"
   },
   {
    "duration": 3596,
    "start_time": "2023-01-27T14:25:53.838Z"
   },
   {
    "duration": 14441,
    "start_time": "2023-01-27T14:25:57.436Z"
   },
   {
    "duration": 132,
    "start_time": "2023-01-27T14:26:11.881Z"
   },
   {
    "duration": 15,
    "start_time": "2023-01-27T14:26:12.015Z"
   },
   {
    "duration": 160,
    "start_time": "2023-01-27T14:26:12.032Z"
   },
   {
    "duration": 147,
    "start_time": "2023-01-27T14:26:12.193Z"
   },
   {
    "duration": 3479,
    "start_time": "2023-01-27T14:26:12.342Z"
   },
   {
    "duration": 11414,
    "start_time": "2023-01-27T14:26:15.823Z"
   },
   {
    "duration": 10,
    "start_time": "2023-01-27T14:26:27.239Z"
   },
   {
    "duration": 4844,
    "start_time": "2023-01-27T14:26:27.252Z"
   },
   {
    "duration": 15296,
    "start_time": "2023-01-27T14:26:32.098Z"
   },
   {
    "duration": 11,
    "start_time": "2023-01-27T14:26:47.396Z"
   },
   {
    "duration": 1962,
    "start_time": "2023-01-27T14:26:47.409Z"
   },
   {
    "duration": 6509,
    "start_time": "2023-01-27T14:26:49.373Z"
   },
   {
    "duration": 237,
    "start_time": "2023-01-27T14:26:55.884Z"
   },
   {
    "duration": 0,
    "start_time": "2023-01-27T14:26:56.123Z"
   },
   {
    "duration": 0,
    "start_time": "2023-01-27T14:26:56.125Z"
   },
   {
    "duration": 113,
    "start_time": "2023-01-27T14:27:29.550Z"
   },
   {
    "duration": 221,
    "start_time": "2023-01-27T14:27:41.885Z"
   },
   {
    "duration": 75,
    "start_time": "2023-01-27T14:30:54.895Z"
   },
   {
    "duration": 219,
    "start_time": "2023-01-27T14:35:04.920Z"
   },
   {
    "duration": 1446,
    "start_time": "2023-01-27T14:39:24.775Z"
   },
   {
    "duration": 45,
    "start_time": "2023-01-27T14:39:26.223Z"
   },
   {
    "duration": 19,
    "start_time": "2023-01-27T14:39:26.270Z"
   },
   {
    "duration": 42,
    "start_time": "2023-01-27T14:39:26.291Z"
   },
   {
    "duration": 12,
    "start_time": "2023-01-27T14:39:26.334Z"
   },
   {
    "duration": 17,
    "start_time": "2023-01-27T14:39:26.348Z"
   },
   {
    "duration": 27,
    "start_time": "2023-01-27T14:39:26.366Z"
   },
   {
    "duration": 10,
    "start_time": "2023-01-27T14:39:26.395Z"
   },
   {
    "duration": 42,
    "start_time": "2023-01-27T14:39:26.407Z"
   },
   {
    "duration": 10,
    "start_time": "2023-01-27T14:39:26.452Z"
   },
   {
    "duration": 18,
    "start_time": "2023-01-27T14:39:26.464Z"
   },
   {
    "duration": 17,
    "start_time": "2023-01-27T14:39:26.485Z"
   },
   {
    "duration": 28,
    "start_time": "2023-01-27T14:39:26.504Z"
   },
   {
    "duration": 38,
    "start_time": "2023-01-27T14:39:26.535Z"
   },
   {
    "duration": 26,
    "start_time": "2023-01-27T14:39:26.575Z"
   },
   {
    "duration": 44,
    "start_time": "2023-01-27T14:39:26.603Z"
   },
   {
    "duration": 173,
    "start_time": "2023-01-27T14:39:26.649Z"
   },
   {
    "duration": 143,
    "start_time": "2023-01-27T14:39:26.824Z"
   },
   {
    "duration": 3596,
    "start_time": "2023-01-27T14:39:26.968Z"
   },
   {
    "duration": 14501,
    "start_time": "2023-01-27T14:39:30.566Z"
   },
   {
    "duration": 151,
    "start_time": "2023-01-27T14:39:45.069Z"
   },
   {
    "duration": 69,
    "start_time": "2023-01-27T14:39:45.221Z"
   },
   {
    "duration": 95,
    "start_time": "2023-01-27T14:39:45.291Z"
   },
   {
    "duration": 167,
    "start_time": "2023-01-27T14:39:45.388Z"
   },
   {
    "duration": 3655,
    "start_time": "2023-01-27T14:39:45.557Z"
   },
   {
    "duration": 11423,
    "start_time": "2023-01-27T14:39:49.214Z"
   },
   {
    "duration": 13,
    "start_time": "2023-01-27T14:40:00.639Z"
   },
   {
    "duration": 4723,
    "start_time": "2023-01-27T14:40:00.656Z"
   },
   {
    "duration": 14743,
    "start_time": "2023-01-27T14:40:05.381Z"
   },
   {
    "duration": 9,
    "start_time": "2023-01-27T14:40:20.125Z"
   },
   {
    "duration": 1910,
    "start_time": "2023-01-27T14:40:20.136Z"
   },
   {
    "duration": 6305,
    "start_time": "2023-01-27T14:40:22.048Z"
   },
   {
    "duration": 230,
    "start_time": "2023-01-27T14:40:28.354Z"
   },
   {
    "duration": 1661,
    "start_time": "2023-01-28T01:09:19.565Z"
   },
   {
    "duration": 7041,
    "start_time": "2023-01-28T01:13:15.068Z"
   },
   {
    "duration": 42,
    "start_time": "2023-01-28T01:13:27.643Z"
   },
   {
    "duration": 7,
    "start_time": "2023-01-28T01:16:27.447Z"
   },
   {
    "duration": 96,
    "start_time": "2023-01-28T01:16:35.824Z"
   },
   {
    "duration": 20,
    "start_time": "2023-01-28T01:16:39.097Z"
   },
   {
    "duration": 60,
    "start_time": "2023-01-28T01:16:43.881Z"
   },
   {
    "duration": 14,
    "start_time": "2023-01-28T01:16:50.085Z"
   },
   {
    "duration": 11,
    "start_time": "2023-01-28T01:16:54.379Z"
   },
   {
    "duration": 22,
    "start_time": "2023-01-28T01:20:05.592Z"
   },
   {
    "duration": 13,
    "start_time": "2023-01-28T01:20:35.104Z"
   },
   {
    "duration": 14,
    "start_time": "2023-01-28T01:38:42.083Z"
   },
   {
    "duration": 18,
    "start_time": "2023-01-28T01:40:07.680Z"
   },
   {
    "duration": 4,
    "start_time": "2023-01-28T01:40:39.286Z"
   },
   {
    "duration": 28,
    "start_time": "2023-01-28T01:40:43.759Z"
   },
   {
    "duration": 5,
    "start_time": "2023-01-28T01:41:03.206Z"
   },
   {
    "duration": 7,
    "start_time": "2023-01-28T01:41:07.029Z"
   },
   {
    "duration": 4,
    "start_time": "2023-01-28T01:41:11.094Z"
   },
   {
    "duration": 5,
    "start_time": "2023-01-28T01:41:14.822Z"
   },
   {
    "duration": 3,
    "start_time": "2023-01-28T01:41:17.910Z"
   },
   {
    "duration": 5,
    "start_time": "2023-01-28T01:41:21.363Z"
   },
   {
    "duration": 20,
    "start_time": "2023-01-28T01:42:47.416Z"
   },
   {
    "duration": 774,
    "start_time": "2023-01-28T01:46:07.649Z"
   },
   {
    "duration": 11,
    "start_time": "2023-01-28T01:46:17.089Z"
   },
   {
    "duration": 4,
    "start_time": "2023-01-28T01:46:27.269Z"
   },
   {
    "duration": 43,
    "start_time": "2023-01-28T01:46:30.426Z"
   },
   {
    "duration": 12,
    "start_time": "2023-01-28T01:46:33.468Z"
   },
   {
    "duration": 48,
    "start_time": "2023-01-28T01:46:37.186Z"
   },
   {
    "duration": 12,
    "start_time": "2023-01-28T01:46:42.303Z"
   },
   {
    "duration": 18,
    "start_time": "2023-01-28T01:46:48.451Z"
   },
   {
    "duration": 23,
    "start_time": "2023-01-28T01:46:54.299Z"
   },
   {
    "duration": 14,
    "start_time": "2023-01-28T01:47:36.390Z"
   },
   {
    "duration": 12,
    "start_time": "2023-01-28T01:47:59.104Z"
   },
   {
    "duration": 57,
    "start_time": "2023-01-28T01:49:26.630Z"
   },
   {
    "duration": 190,
    "start_time": "2023-01-28T01:49:33.157Z"
   },
   {
    "duration": 9,
    "start_time": "2023-01-28T01:50:20.328Z"
   },
   {
    "duration": 9,
    "start_time": "2023-01-28T01:50:29.676Z"
   },
   {
    "duration": 18,
    "start_time": "2023-01-28T01:51:47.775Z"
   },
   {
    "duration": 5,
    "start_time": "2023-01-28T01:51:57.172Z"
   },
   {
    "duration": 27,
    "start_time": "2023-01-28T01:52:04.593Z"
   },
   {
    "duration": 6,
    "start_time": "2023-01-28T01:52:11.779Z"
   },
   {
    "duration": 6,
    "start_time": "2023-01-28T01:52:14.762Z"
   },
   {
    "duration": 17,
    "start_time": "2023-01-28T01:52:19.451Z"
   },
   {
    "duration": 6,
    "start_time": "2023-01-28T01:52:22.843Z"
   },
   {
    "duration": 6,
    "start_time": "2023-01-28T01:52:26.677Z"
   },
   {
    "duration": 4,
    "start_time": "2023-01-28T01:52:29.498Z"
   },
   {
    "duration": 16,
    "start_time": "2023-01-28T01:52:31.419Z"
   },
   {
    "duration": 1226,
    "start_time": "2023-01-28T01:58:04.246Z"
   },
   {
    "duration": 39,
    "start_time": "2023-01-28T01:58:05.474Z"
   },
   {
    "duration": 15,
    "start_time": "2023-01-28T01:58:05.514Z"
   },
   {
    "duration": 91,
    "start_time": "2023-01-28T01:58:05.532Z"
   },
   {
    "duration": 11,
    "start_time": "2023-01-28T01:58:05.625Z"
   },
   {
    "duration": 40,
    "start_time": "2023-01-28T01:58:05.638Z"
   },
   {
    "duration": 18,
    "start_time": "2023-01-28T01:58:05.679Z"
   },
   {
    "duration": 30,
    "start_time": "2023-01-28T01:58:05.699Z"
   },
   {
    "duration": 40,
    "start_time": "2023-01-28T01:58:05.732Z"
   },
   {
    "duration": 44,
    "start_time": "2023-01-28T01:58:05.774Z"
   },
   {
    "duration": 16,
    "start_time": "2023-01-28T01:58:05.820Z"
   },
   {
    "duration": 34,
    "start_time": "2023-01-28T01:58:05.838Z"
   },
   {
    "duration": 56,
    "start_time": "2023-01-28T01:58:05.874Z"
   },
   {
    "duration": 7,
    "start_time": "2023-01-28T01:58:05.932Z"
   },
   {
    "duration": 13,
    "start_time": "2023-01-28T01:58:05.940Z"
   },
   {
    "duration": 228,
    "start_time": "2023-01-28T01:58:05.957Z"
   },
   {
    "duration": 145,
    "start_time": "2023-01-28T01:58:06.187Z"
   },
   {
    "duration": 4084,
    "start_time": "2023-01-28T01:58:06.333Z"
   },
   {
    "duration": 16304,
    "start_time": "2023-01-28T01:58:10.419Z"
   },
   {
    "duration": 152,
    "start_time": "2023-01-28T01:58:26.725Z"
   },
   {
    "duration": 90,
    "start_time": "2023-01-28T01:58:26.879Z"
   },
   {
    "duration": 85,
    "start_time": "2023-01-28T01:58:26.970Z"
   },
   {
    "duration": 170,
    "start_time": "2023-01-28T01:58:27.061Z"
   },
   {
    "duration": 3996,
    "start_time": "2023-01-28T01:58:27.233Z"
   },
   {
    "duration": 12733,
    "start_time": "2023-01-28T01:58:31.231Z"
   },
   {
    "duration": 10,
    "start_time": "2023-01-28T01:58:43.966Z"
   },
   {
    "duration": 5309,
    "start_time": "2023-01-28T01:58:43.977Z"
   },
   {
    "duration": 16691,
    "start_time": "2023-01-28T01:58:49.289Z"
   },
   {
    "duration": 11,
    "start_time": "2023-01-28T01:59:05.982Z"
   },
   {
    "duration": 2247,
    "start_time": "2023-01-28T01:59:05.994Z"
   },
   {
    "duration": 7444,
    "start_time": "2023-01-28T01:59:08.242Z"
   },
   {
    "duration": 282,
    "start_time": "2023-01-28T01:59:15.688Z"
   },
   {
    "duration": 60,
    "start_time": "2023-01-28T02:00:21.538Z"
   },
   {
    "duration": 128,
    "start_time": "2023-01-28T02:01:12.541Z"
   },
   {
    "duration": 17,
    "start_time": "2023-01-28T02:01:36.313Z"
   },
   {
    "duration": 10,
    "start_time": "2023-01-28T02:03:25.775Z"
   },
   {
    "duration": 176,
    "start_time": "2023-01-28T02:03:52.614Z"
   },
   {
    "duration": 14,
    "start_time": "2023-01-28T02:05:55.532Z"
   },
   {
    "duration": 5,
    "start_time": "2023-01-28T02:06:04.105Z"
   },
   {
    "duration": 40,
    "start_time": "2023-01-28T02:06:07.552Z"
   },
   {
    "duration": 11,
    "start_time": "2023-01-28T02:06:15.485Z"
   },
   {
    "duration": 5,
    "start_time": "2023-01-28T02:06:18.122Z"
   },
   {
    "duration": 4,
    "start_time": "2023-01-28T02:06:20.508Z"
   },
   {
    "duration": 5,
    "start_time": "2023-01-28T02:06:25.325Z"
   },
   {
    "duration": 3,
    "start_time": "2023-01-28T02:06:28.909Z"
   },
   {
    "duration": 12,
    "start_time": "2023-01-28T02:06:30.657Z"
   },
   {
    "duration": 13,
    "start_time": "2023-01-28T02:06:32.508Z"
   },
   {
    "duration": 156,
    "start_time": "2023-01-28T02:06:40.491Z"
   },
   {
    "duration": 4,
    "start_time": "2023-01-29T11:14:05.608Z"
   },
   {
    "duration": 4,
    "start_time": "2023-01-29T11:14:16.275Z"
   },
   {
    "duration": 41,
    "start_time": "2023-01-29T11:14:33.491Z"
   },
   {
    "duration": 13,
    "start_time": "2023-01-29T11:14:38.722Z"
   },
   {
    "duration": 52,
    "start_time": "2023-01-29T11:14:57.422Z"
   },
   {
    "duration": 12,
    "start_time": "2023-01-29T11:21:25.246Z"
   },
   {
    "duration": 12,
    "start_time": "2023-01-29T11:21:29.854Z"
   },
   {
    "duration": 17,
    "start_time": "2023-01-29T11:21:47.287Z"
   },
   {
    "duration": 5,
    "start_time": "2023-01-29T11:21:53.038Z"
   },
   {
    "duration": 22,
    "start_time": "2023-01-29T11:21:58.318Z"
   },
   {
    "duration": 6,
    "start_time": "2023-01-29T11:28:20.163Z"
   },
   {
    "duration": 7,
    "start_time": "2023-01-29T11:29:39.806Z"
   },
   {
    "duration": 7,
    "start_time": "2023-01-29T11:31:07.684Z"
   },
   {
    "duration": 12,
    "start_time": "2023-01-29T11:31:21.364Z"
   },
   {
    "duration": 148,
    "start_time": "2023-01-29T11:34:57.582Z"
   },
   {
    "duration": 70,
    "start_time": "2023-01-29T11:45:44.353Z"
   },
   {
    "duration": 71,
    "start_time": "2023-01-29T11:46:18.759Z"
   },
   {
    "duration": 82,
    "start_time": "2023-01-29T11:46:52.070Z"
   },
   {
    "duration": 75,
    "start_time": "2023-01-29T11:47:26.670Z"
   },
   {
    "duration": 73,
    "start_time": "2023-01-29T11:50:52.560Z"
   },
   {
    "duration": 163,
    "start_time": "2023-01-29T11:51:36.001Z"
   },
   {
    "duration": 92,
    "start_time": "2023-01-29T11:55:37.713Z"
   },
   {
    "duration": 19,
    "start_time": "2023-01-29T11:57:11.292Z"
   },
   {
    "duration": 20,
    "start_time": "2023-01-29T11:57:38.990Z"
   },
   {
    "duration": 19,
    "start_time": "2023-01-29T11:58:24.283Z"
   },
   {
    "duration": 167,
    "start_time": "2023-01-29T11:59:17.460Z"
   },
   {
    "duration": 151,
    "start_time": "2023-01-29T12:00:24.940Z"
   },
   {
    "duration": 282,
    "start_time": "2023-01-29T12:02:30.930Z"
   },
   {
    "duration": 173,
    "start_time": "2023-01-29T12:03:04.515Z"
   },
   {
    "duration": 124,
    "start_time": "2023-01-29T12:03:10.107Z"
   },
   {
    "duration": 114,
    "start_time": "2023-01-29T12:03:32.057Z"
   },
   {
    "duration": 168,
    "start_time": "2023-01-29T12:05:29.921Z"
   },
   {
    "duration": 123,
    "start_time": "2023-01-29T12:05:35.641Z"
   },
   {
    "duration": 124,
    "start_time": "2023-01-29T12:05:41.028Z"
   },
   {
    "duration": 342,
    "start_time": "2023-01-29T12:06:11.282Z"
   },
   {
    "duration": 4105,
    "start_time": "2023-01-29T12:15:01.225Z"
   },
   {
    "duration": 296,
    "start_time": "2023-01-29T12:18:18.027Z"
   },
   {
    "duration": 23,
    "start_time": "2023-01-29T12:21:59.732Z"
   },
   {
    "duration": 17,
    "start_time": "2023-01-29T12:30:00.435Z"
   },
   {
    "duration": 25,
    "start_time": "2023-01-29T12:30:29.626Z"
   },
   {
    "duration": 18,
    "start_time": "2023-01-29T12:32:31.420Z"
   },
   {
    "duration": 19,
    "start_time": "2023-01-29T12:34:29.893Z"
   },
   {
    "duration": 5,
    "start_time": "2023-01-29T12:34:41.251Z"
   },
   {
    "duration": 40,
    "start_time": "2023-01-29T12:34:45.153Z"
   },
   {
    "duration": 13,
    "start_time": "2023-01-29T12:34:46.963Z"
   },
   {
    "duration": 54,
    "start_time": "2023-01-29T12:34:49.133Z"
   },
   {
    "duration": 12,
    "start_time": "2023-01-29T12:34:53.563Z"
   },
   {
    "duration": 11,
    "start_time": "2023-01-29T12:34:56.644Z"
   },
   {
    "duration": 15,
    "start_time": "2023-01-29T12:34:59.387Z"
   },
   {
    "duration": 5,
    "start_time": "2023-01-29T12:35:02.738Z"
   },
   {
    "duration": 19,
    "start_time": "2023-01-29T12:35:05.668Z"
   },
   {
    "duration": 5,
    "start_time": "2023-01-29T12:35:13.644Z"
   },
   {
    "duration": 7,
    "start_time": "2023-01-29T12:35:16.163Z"
   },
   {
    "duration": 14,
    "start_time": "2023-01-29T12:35:19.053Z"
   },
   {
    "duration": 170,
    "start_time": "2023-01-29T12:35:25.542Z"
   },
   {
    "duration": 3183,
    "start_time": "2023-01-29T12:36:13.172Z"
   },
   {
    "duration": 164,
    "start_time": "2023-01-29T12:37:10.534Z"
   },
   {
    "duration": 263,
    "start_time": "2023-01-29T12:37:30.604Z"
   },
   {
    "duration": 83,
    "start_time": "2023-01-29T12:49:27.464Z"
   },
   {
    "duration": 75,
    "start_time": "2023-01-29T12:52:59.646Z"
   },
   {
    "duration": 110,
    "start_time": "2023-01-29T12:53:54.465Z"
   },
   {
    "duration": 85,
    "start_time": "2023-01-29T12:55:42.929Z"
   },
   {
    "duration": 2849,
    "start_time": "2023-01-29T12:56:45.209Z"
   },
   {
    "duration": 416,
    "start_time": "2023-01-29T12:56:57.545Z"
   },
   {
    "duration": 27,
    "start_time": "2023-01-29T13:00:13.252Z"
   },
   {
    "duration": 1591,
    "start_time": "2023-01-29T13:00:46.544Z"
   },
   {
    "duration": 44,
    "start_time": "2023-01-29T13:00:48.137Z"
   },
   {
    "duration": 18,
    "start_time": "2023-01-29T13:00:48.183Z"
   },
   {
    "duration": 59,
    "start_time": "2023-01-29T13:00:48.203Z"
   },
   {
    "duration": 17,
    "start_time": "2023-01-29T13:00:48.264Z"
   },
   {
    "duration": 17,
    "start_time": "2023-01-29T13:00:48.282Z"
   },
   {
    "duration": 48,
    "start_time": "2023-01-29T13:00:48.301Z"
   },
   {
    "duration": 7,
    "start_time": "2023-01-29T13:00:48.352Z"
   },
   {
    "duration": 28,
    "start_time": "2023-01-29T13:00:48.361Z"
   },
   {
    "duration": 6,
    "start_time": "2023-01-29T13:00:48.392Z"
   },
   {
    "duration": 10,
    "start_time": "2023-01-29T13:00:48.427Z"
   },
   {
    "duration": 22,
    "start_time": "2023-01-29T13:00:48.439Z"
   },
   {
    "duration": 19,
    "start_time": "2023-01-29T13:00:48.463Z"
   },
   {
    "duration": 214,
    "start_time": "2023-01-29T13:00:48.484Z"
   },
   {
    "duration": 285,
    "start_time": "2023-01-29T13:00:48.700Z"
   },
   {
    "duration": 2768,
    "start_time": "2023-01-29T13:00:48.987Z"
   },
   {
    "duration": 294,
    "start_time": "2023-01-29T13:00:51.757Z"
   },
   {
    "duration": 0,
    "start_time": "2023-01-29T13:00:52.054Z"
   },
   {
    "duration": 0,
    "start_time": "2023-01-29T13:00:52.055Z"
   },
   {
    "duration": 0,
    "start_time": "2023-01-29T13:00:52.056Z"
   },
   {
    "duration": 0,
    "start_time": "2023-01-29T13:00:52.058Z"
   },
   {
    "duration": 0,
    "start_time": "2023-01-29T13:00:52.059Z"
   },
   {
    "duration": 0,
    "start_time": "2023-01-29T13:00:52.060Z"
   },
   {
    "duration": 0,
    "start_time": "2023-01-29T13:00:52.061Z"
   },
   {
    "duration": 0,
    "start_time": "2023-01-29T13:00:52.062Z"
   },
   {
    "duration": 0,
    "start_time": "2023-01-29T13:00:52.064Z"
   },
   {
    "duration": 0,
    "start_time": "2023-01-29T13:00:52.065Z"
   },
   {
    "duration": 0,
    "start_time": "2023-01-29T13:00:52.066Z"
   },
   {
    "duration": 0,
    "start_time": "2023-01-29T13:00:52.068Z"
   },
   {
    "duration": 335,
    "start_time": "2023-01-29T13:02:40.873Z"
   },
   {
    "duration": 2799,
    "start_time": "2023-01-29T13:03:34.967Z"
   },
   {
    "duration": 347,
    "start_time": "2023-01-29T13:03:48.061Z"
   },
   {
    "duration": 105,
    "start_time": "2023-01-29T13:03:57.230Z"
   },
   {
    "duration": 7,
    "start_time": "2023-01-29T13:07:46.808Z"
   },
   {
    "duration": 25,
    "start_time": "2023-01-29T13:12:25.391Z"
   },
   {
    "duration": 22,
    "start_time": "2023-01-29T13:13:41.785Z"
   },
   {
    "duration": 145,
    "start_time": "2023-01-29T13:14:27.842Z"
   },
   {
    "duration": 211,
    "start_time": "2023-01-29T13:15:09.138Z"
   },
   {
    "duration": 70,
    "start_time": "2023-01-29T13:17:41.955Z"
   },
   {
    "duration": 48,
    "start_time": "2023-01-29T13:39:44.856Z"
   },
   {
    "duration": 29988,
    "start_time": "2023-01-29T13:39:57.450Z"
   },
   {
    "duration": 33129,
    "start_time": "2023-01-29T13:41:15.788Z"
   },
   {
    "duration": 32829,
    "start_time": "2023-01-29T13:44:09.362Z"
   },
   {
    "duration": 1669,
    "start_time": "2023-01-29T13:45:22.530Z"
   },
   {
    "duration": 52,
    "start_time": "2023-01-29T13:45:24.202Z"
   },
   {
    "duration": 25,
    "start_time": "2023-01-29T13:45:24.256Z"
   },
   {
    "duration": 90,
    "start_time": "2023-01-29T13:45:24.284Z"
   },
   {
    "duration": 18,
    "start_time": "2023-01-29T13:45:24.377Z"
   },
   {
    "duration": 34,
    "start_time": "2023-01-29T13:45:24.397Z"
   },
   {
    "duration": 25,
    "start_time": "2023-01-29T13:45:24.433Z"
   },
   {
    "duration": 19,
    "start_time": "2023-01-29T13:45:24.460Z"
   },
   {
    "duration": 64,
    "start_time": "2023-01-29T13:45:24.482Z"
   },
   {
    "duration": 30,
    "start_time": "2023-01-29T13:45:24.549Z"
   },
   {
    "duration": 28,
    "start_time": "2023-01-29T13:45:24.582Z"
   },
   {
    "duration": 23,
    "start_time": "2023-01-29T13:45:24.613Z"
   },
   {
    "duration": 39,
    "start_time": "2023-01-29T13:45:24.638Z"
   },
   {
    "duration": 294,
    "start_time": "2023-01-29T13:45:24.684Z"
   },
   {
    "duration": 398,
    "start_time": "2023-01-29T13:45:24.981Z"
   },
   {
    "duration": 2817,
    "start_time": "2023-01-29T13:45:25.382Z"
   },
   {
    "duration": 349,
    "start_time": "2023-01-29T13:45:28.201Z"
   },
   {
    "duration": 84,
    "start_time": "2023-01-29T13:45:28.551Z"
   },
   {
    "duration": 86,
    "start_time": "2023-01-29T13:45:28.637Z"
   },
   {
    "duration": 25,
    "start_time": "2023-01-29T13:45:28.725Z"
   },
   {
    "duration": 239,
    "start_time": "2023-01-29T13:45:28.752Z"
   },
   {
    "duration": 30,
    "start_time": "2023-01-29T13:45:28.992Z"
   },
   {
    "duration": 99,
    "start_time": "2023-01-29T13:45:29.024Z"
   },
   {
    "duration": 1,
    "start_time": "2023-01-29T13:45:29.125Z"
   },
   {
    "duration": 0,
    "start_time": "2023-01-29T13:45:29.127Z"
   },
   {
    "duration": 0,
    "start_time": "2023-01-29T13:45:29.129Z"
   },
   {
    "duration": 0,
    "start_time": "2023-01-29T13:45:29.133Z"
   },
   {
    "duration": 0,
    "start_time": "2023-01-29T13:45:29.134Z"
   },
   {
    "duration": 0,
    "start_time": "2023-01-29T13:45:29.136Z"
   },
   {
    "duration": 0,
    "start_time": "2023-01-29T13:45:29.137Z"
   },
   {
    "duration": 0,
    "start_time": "2023-01-29T13:45:29.138Z"
   },
   {
    "duration": 0,
    "start_time": "2023-01-29T13:45:29.139Z"
   },
   {
    "duration": 0,
    "start_time": "2023-01-29T13:45:29.140Z"
   },
   {
    "duration": 3887,
    "start_time": "2023-01-29T13:46:11.857Z"
   },
   {
    "duration": 9045,
    "start_time": "2023-01-29T13:46:30.838Z"
   },
   {
    "duration": 12116,
    "start_time": "2023-01-29T13:47:31.926Z"
   },
   {
    "duration": 42259,
    "start_time": "2023-01-29T13:48:06.336Z"
   },
   {
    "duration": 1828,
    "start_time": "2023-01-30T14:22:36.122Z"
   },
   {
    "duration": 232,
    "start_time": "2023-01-30T14:22:37.952Z"
   },
   {
    "duration": 18,
    "start_time": "2023-01-30T14:22:38.186Z"
   },
   {
    "duration": 73,
    "start_time": "2023-01-30T14:22:38.206Z"
   },
   {
    "duration": 18,
    "start_time": "2023-01-30T14:22:38.281Z"
   },
   {
    "duration": 20,
    "start_time": "2023-01-30T14:22:38.301Z"
   },
   {
    "duration": 12,
    "start_time": "2023-01-30T14:22:38.323Z"
   },
   {
    "duration": 28,
    "start_time": "2023-01-30T14:22:38.337Z"
   },
   {
    "duration": 26,
    "start_time": "2023-01-30T14:22:38.372Z"
   },
   {
    "duration": 5,
    "start_time": "2023-01-30T14:22:38.401Z"
   },
   {
    "duration": 7,
    "start_time": "2023-01-30T14:22:38.407Z"
   },
   {
    "duration": 7,
    "start_time": "2023-01-30T14:22:38.416Z"
   },
   {
    "duration": 21,
    "start_time": "2023-01-30T14:22:38.424Z"
   },
   {
    "duration": 165,
    "start_time": "2023-01-30T14:22:38.446Z"
   },
   {
    "duration": 270,
    "start_time": "2023-01-30T14:22:38.613Z"
   },
   {
    "duration": 2597,
    "start_time": "2023-01-30T14:22:38.885Z"
   },
   {
    "duration": 344,
    "start_time": "2023-01-30T14:22:41.487Z"
   },
   {
    "duration": 39,
    "start_time": "2023-01-30T14:22:41.833Z"
   },
   {
    "duration": 9,
    "start_time": "2023-01-30T14:22:41.874Z"
   },
   {
    "duration": 110,
    "start_time": "2023-01-30T14:22:41.957Z"
   },
   {
    "duration": 226,
    "start_time": "2023-01-30T14:22:42.070Z"
   },
   {
    "duration": 60,
    "start_time": "2023-01-30T14:22:42.298Z"
   },
   {
    "duration": 1,
    "start_time": "2023-01-30T14:22:42.360Z"
   },
   {
    "duration": 33286,
    "start_time": "2023-01-30T14:22:42.368Z"
   },
   {
    "duration": 18,
    "start_time": "2023-01-30T14:23:15.663Z"
   },
   {
    "duration": 4983,
    "start_time": "2023-01-30T14:23:15.683Z"
   },
   {
    "duration": 16191,
    "start_time": "2023-01-30T14:23:20.668Z"
   },
   {
    "duration": 12,
    "start_time": "2023-01-30T14:23:36.862Z"
   },
   {
    "duration": 2072,
    "start_time": "2023-01-30T14:23:36.880Z"
   },
   {
    "duration": 6892,
    "start_time": "2023-01-30T14:23:38.954Z"
   },
   {
    "duration": 260,
    "start_time": "2023-01-30T14:23:45.847Z"
   },
   {
    "duration": 32107,
    "start_time": "2023-01-30T14:31:50.168Z"
   },
   {
    "duration": 167,
    "start_time": "2023-01-30T14:35:37.437Z"
   },
   {
    "duration": 0,
    "start_time": "2023-01-30T14:37:26.302Z"
   },
   {
    "duration": 0,
    "start_time": "2023-01-30T14:37:26.302Z"
   },
   {
    "duration": 0,
    "start_time": "2023-01-30T14:37:26.303Z"
   },
   {
    "duration": 0,
    "start_time": "2023-01-30T14:37:26.305Z"
   },
   {
    "duration": 0,
    "start_time": "2023-01-30T14:37:26.305Z"
   },
   {
    "duration": 0,
    "start_time": "2023-01-30T14:37:26.308Z"
   },
   {
    "duration": 0,
    "start_time": "2023-01-30T14:37:26.309Z"
   },
   {
    "duration": 0,
    "start_time": "2023-01-30T14:37:26.310Z"
   },
   {
    "duration": 0,
    "start_time": "2023-01-30T14:37:26.311Z"
   },
   {
    "duration": 0,
    "start_time": "2023-01-30T14:37:26.313Z"
   },
   {
    "duration": 0,
    "start_time": "2023-01-30T14:37:26.315Z"
   },
   {
    "duration": 0,
    "start_time": "2023-01-30T14:37:26.316Z"
   },
   {
    "duration": 0,
    "start_time": "2023-01-30T14:37:26.352Z"
   },
   {
    "duration": 0,
    "start_time": "2023-01-30T14:37:26.352Z"
   },
   {
    "duration": 0,
    "start_time": "2023-01-30T14:37:26.353Z"
   },
   {
    "duration": 0,
    "start_time": "2023-01-30T14:37:26.353Z"
   },
   {
    "duration": 0,
    "start_time": "2023-01-30T14:37:26.354Z"
   },
   {
    "duration": 0,
    "start_time": "2023-01-30T14:37:26.354Z"
   },
   {
    "duration": 0,
    "start_time": "2023-01-30T14:37:26.356Z"
   },
   {
    "duration": 0,
    "start_time": "2023-01-30T14:37:26.358Z"
   },
   {
    "duration": 0,
    "start_time": "2023-01-30T14:37:26.360Z"
   },
   {
    "duration": 0,
    "start_time": "2023-01-30T14:37:26.361Z"
   },
   {
    "duration": 0,
    "start_time": "2023-01-30T14:37:26.362Z"
   },
   {
    "duration": 0,
    "start_time": "2023-01-30T14:37:26.365Z"
   },
   {
    "duration": 0,
    "start_time": "2023-01-30T14:37:26.366Z"
   },
   {
    "duration": 0,
    "start_time": "2023-01-30T14:37:26.369Z"
   },
   {
    "duration": 0,
    "start_time": "2023-01-30T14:37:26.370Z"
   },
   {
    "duration": 0,
    "start_time": "2023-01-30T14:37:26.371Z"
   },
   {
    "duration": 0,
    "start_time": "2023-01-30T14:37:26.372Z"
   },
   {
    "duration": 0,
    "start_time": "2023-01-30T14:37:26.373Z"
   },
   {
    "duration": 0,
    "start_time": "2023-01-30T14:37:26.377Z"
   },
   {
    "duration": 1457,
    "start_time": "2023-01-30T14:42:04.941Z"
   },
   {
    "duration": 64,
    "start_time": "2023-01-30T14:42:06.401Z"
   },
   {
    "duration": 21,
    "start_time": "2023-01-30T14:42:06.473Z"
   },
   {
    "duration": 75,
    "start_time": "2023-01-30T14:42:06.498Z"
   },
   {
    "duration": 15,
    "start_time": "2023-01-30T14:42:06.575Z"
   },
   {
    "duration": 104,
    "start_time": "2023-01-30T14:42:06.593Z"
   },
   {
    "duration": 26,
    "start_time": "2023-01-30T14:42:06.699Z"
   },
   {
    "duration": 32,
    "start_time": "2023-01-30T14:42:06.726Z"
   },
   {
    "duration": 37,
    "start_time": "2023-01-30T14:42:06.759Z"
   },
   {
    "duration": 6,
    "start_time": "2023-01-30T14:42:06.799Z"
   },
   {
    "duration": 7,
    "start_time": "2023-01-30T14:42:06.807Z"
   },
   {
    "duration": 20,
    "start_time": "2023-01-30T14:42:06.816Z"
   },
   {
    "duration": 48,
    "start_time": "2023-01-30T14:42:06.837Z"
   },
   {
    "duration": 158,
    "start_time": "2023-01-30T14:42:06.886Z"
   },
   {
    "duration": 259,
    "start_time": "2023-01-30T14:42:07.046Z"
   },
   {
    "duration": 2460,
    "start_time": "2023-01-30T14:42:07.306Z"
   },
   {
    "duration": 313,
    "start_time": "2023-01-30T14:42:09.768Z"
   },
   {
    "duration": 74,
    "start_time": "2023-01-30T14:42:10.083Z"
   },
   {
    "duration": 94,
    "start_time": "2023-01-30T14:42:10.162Z"
   },
   {
    "duration": 39,
    "start_time": "2023-01-30T14:42:10.258Z"
   },
   {
    "duration": 206,
    "start_time": "2023-01-30T14:42:10.298Z"
   },
   {
    "duration": 50,
    "start_time": "2023-01-30T14:42:10.505Z"
   },
   {
    "duration": 209,
    "start_time": "2023-01-30T14:42:10.557Z"
   },
   {
    "duration": 0,
    "start_time": "2023-01-30T14:42:10.768Z"
   },
   {
    "duration": 0,
    "start_time": "2023-01-30T14:42:10.769Z"
   },
   {
    "duration": 0,
    "start_time": "2023-01-30T14:42:10.770Z"
   },
   {
    "duration": 0,
    "start_time": "2023-01-30T14:42:10.771Z"
   },
   {
    "duration": 0,
    "start_time": "2023-01-30T14:42:10.772Z"
   },
   {
    "duration": 0,
    "start_time": "2023-01-30T14:42:10.773Z"
   },
   {
    "duration": 0,
    "start_time": "2023-01-30T14:42:10.774Z"
   },
   {
    "duration": 0,
    "start_time": "2023-01-30T14:42:10.776Z"
   },
   {
    "duration": 0,
    "start_time": "2023-01-30T14:42:10.777Z"
   },
   {
    "duration": 188,
    "start_time": "2023-01-30T14:42:44.678Z"
   },
   {
    "duration": 185,
    "start_time": "2023-01-30T14:43:53.492Z"
   },
   {
    "duration": 33,
    "start_time": "2023-01-30T14:44:24.842Z"
   },
   {
    "duration": 31246,
    "start_time": "2023-01-30T14:44:24.877Z"
   },
   {
    "duration": 1661,
    "start_time": "2023-01-31T11:37:34.080Z"
   },
   {
    "duration": 190,
    "start_time": "2023-01-31T11:37:35.742Z"
   },
   {
    "duration": 18,
    "start_time": "2023-01-31T11:37:35.934Z"
   },
   {
    "duration": 60,
    "start_time": "2023-01-31T11:37:35.954Z"
   },
   {
    "duration": 13,
    "start_time": "2023-01-31T11:37:36.016Z"
   },
   {
    "duration": 13,
    "start_time": "2023-01-31T11:37:36.030Z"
   },
   {
    "duration": 13,
    "start_time": "2023-01-31T11:37:36.045Z"
   },
   {
    "duration": 38,
    "start_time": "2023-01-31T11:37:36.060Z"
   },
   {
    "duration": 36,
    "start_time": "2023-01-31T11:37:36.100Z"
   },
   {
    "duration": 4,
    "start_time": "2023-01-31T11:37:36.139Z"
   },
   {
    "duration": 28,
    "start_time": "2023-01-31T11:37:36.145Z"
   },
   {
    "duration": 8,
    "start_time": "2023-01-31T11:37:36.174Z"
   },
   {
    "duration": 32,
    "start_time": "2023-01-31T11:37:36.184Z"
   },
   {
    "duration": 189,
    "start_time": "2023-01-31T11:37:36.219Z"
   },
   {
    "duration": 319,
    "start_time": "2023-01-31T11:37:36.412Z"
   },
   {
    "duration": 2587,
    "start_time": "2023-01-31T11:37:36.734Z"
   },
   {
    "duration": 335,
    "start_time": "2023-01-31T11:37:39.323Z"
   },
   {
    "duration": 53,
    "start_time": "2023-01-31T11:37:39.660Z"
   },
   {
    "duration": 112,
    "start_time": "2023-01-31T11:37:39.716Z"
   },
   {
    "duration": 83,
    "start_time": "2023-01-31T11:37:39.833Z"
   },
   {
    "duration": 227,
    "start_time": "2023-01-31T11:37:39.918Z"
   },
   {
    "duration": 151,
    "start_time": "2023-01-31T11:37:40.147Z"
   },
   {
    "duration": 326,
    "start_time": "2023-01-31T11:37:40.302Z"
   },
   {
    "duration": 32889,
    "start_time": "2023-01-31T11:37:40.631Z"
   },
   {
    "duration": 95,
    "start_time": "2023-01-31T11:38:13.522Z"
   },
   {
    "duration": 91,
    "start_time": "2023-01-31T11:38:13.621Z"
   },
   {
    "duration": 276,
    "start_time": "2023-01-31T11:38:13.720Z"
   },
   {
    "duration": 711,
    "start_time": "2023-01-31T11:38:14.000Z"
   },
   {
    "duration": 5085,
    "start_time": "2023-01-31T11:38:14.714Z"
   },
   {
    "duration": 16078,
    "start_time": "2023-01-31T11:38:19.801Z"
   },
   {
    "duration": 39,
    "start_time": "2023-01-31T11:38:35.881Z"
   },
   {
    "duration": 305,
    "start_time": "2023-01-31T11:38:35.923Z"
   },
   {
    "duration": 105,
    "start_time": "2023-01-31T11:38:36.230Z"
   },
   {
    "duration": 2193,
    "start_time": "2023-01-31T11:38:36.341Z"
   },
   {
    "duration": 6925,
    "start_time": "2023-01-31T11:38:38.537Z"
   },
   {
    "duration": 285,
    "start_time": "2023-01-31T11:38:45.463Z"
   },
   {
    "duration": 752,
    "start_time": "2023-01-31T11:39:50.822Z"
   },
   {
    "duration": 16642,
    "start_time": "2023-01-31T11:40:07.186Z"
   },
   {
    "duration": 4925,
    "start_time": "2023-01-31T11:42:51.116Z"
   },
   {
    "duration": 1430,
    "start_time": "2023-01-31T11:48:11.756Z"
   },
   {
    "duration": 47,
    "start_time": "2023-01-31T11:48:13.188Z"
   },
   {
    "duration": 19,
    "start_time": "2023-01-31T11:48:13.237Z"
   },
   {
    "duration": 70,
    "start_time": "2023-01-31T11:48:13.259Z"
   },
   {
    "duration": 13,
    "start_time": "2023-01-31T11:48:13.331Z"
   },
   {
    "duration": 12,
    "start_time": "2023-01-31T11:48:13.346Z"
   },
   {
    "duration": 36,
    "start_time": "2023-01-31T11:48:13.360Z"
   },
   {
    "duration": 9,
    "start_time": "2023-01-31T11:48:13.398Z"
   },
   {
    "duration": 21,
    "start_time": "2023-01-31T11:48:13.409Z"
   },
   {
    "duration": 4,
    "start_time": "2023-01-31T11:48:13.433Z"
   },
   {
    "duration": 10,
    "start_time": "2023-01-31T11:48:13.438Z"
   },
   {
    "duration": 20,
    "start_time": "2023-01-31T11:48:13.450Z"
   },
   {
    "duration": 35,
    "start_time": "2023-01-31T11:48:13.472Z"
   },
   {
    "duration": 179,
    "start_time": "2023-01-31T11:48:13.509Z"
   },
   {
    "duration": 258,
    "start_time": "2023-01-31T11:48:13.691Z"
   },
   {
    "duration": 2470,
    "start_time": "2023-01-31T11:48:13.951Z"
   },
   {
    "duration": 312,
    "start_time": "2023-01-31T11:48:16.423Z"
   },
   {
    "duration": 65,
    "start_time": "2023-01-31T11:48:16.736Z"
   },
   {
    "duration": 87,
    "start_time": "2023-01-31T11:48:16.811Z"
   },
   {
    "duration": 33,
    "start_time": "2023-01-31T11:48:16.900Z"
   },
   {
    "duration": 216,
    "start_time": "2023-01-31T11:48:16.935Z"
   },
   {
    "duration": 43,
    "start_time": "2023-01-31T11:48:17.152Z"
   },
   {
    "duration": 280,
    "start_time": "2023-01-31T11:48:17.197Z"
   },
   {
    "duration": 31495,
    "start_time": "2023-01-31T11:48:17.479Z"
   },
   {
    "duration": 115,
    "start_time": "2023-01-31T11:48:48.976Z"
   },
   {
    "duration": 104,
    "start_time": "2023-01-31T11:48:49.094Z"
   },
   {
    "duration": 216,
    "start_time": "2023-01-31T11:48:49.200Z"
   },
   {
    "duration": 736,
    "start_time": "2023-01-31T11:48:49.419Z"
   },
   {
    "duration": 4862,
    "start_time": "2023-01-31T11:48:50.156Z"
   },
   {
    "duration": 15685,
    "start_time": "2023-01-31T11:48:55.020Z"
   },
   {
    "duration": 93,
    "start_time": "2023-01-31T11:49:10.707Z"
   },
   {
    "duration": 192,
    "start_time": "2023-01-31T11:49:10.802Z"
   },
   {
    "duration": 98,
    "start_time": "2023-01-31T11:49:11.004Z"
   },
   {
    "duration": 2066,
    "start_time": "2023-01-31T11:49:11.105Z"
   },
   {
    "duration": 6700,
    "start_time": "2023-01-31T11:49:13.172Z"
   },
   {
    "duration": 251,
    "start_time": "2023-01-31T11:49:19.874Z"
   },
   {
    "duration": 1594,
    "start_time": "2023-01-31T13:37:38.396Z"
   },
   {
    "duration": 50,
    "start_time": "2023-01-31T13:37:39.992Z"
   },
   {
    "duration": 21,
    "start_time": "2023-01-31T13:37:40.044Z"
   },
   {
    "duration": 95,
    "start_time": "2023-01-31T13:37:40.068Z"
   },
   {
    "duration": 27,
    "start_time": "2023-01-31T13:37:40.164Z"
   },
   {
    "duration": 19,
    "start_time": "2023-01-31T13:37:40.194Z"
   },
   {
    "duration": 36,
    "start_time": "2023-01-31T13:37:40.215Z"
   },
   {
    "duration": 20,
    "start_time": "2023-01-31T13:37:40.253Z"
   },
   {
    "duration": 39,
    "start_time": "2023-01-31T13:37:40.276Z"
   },
   {
    "duration": 8,
    "start_time": "2023-01-31T13:37:40.319Z"
   },
   {
    "duration": 20,
    "start_time": "2023-01-31T13:37:40.329Z"
   },
   {
    "duration": 11,
    "start_time": "2023-01-31T13:37:40.351Z"
   },
   {
    "duration": 40,
    "start_time": "2023-01-31T13:37:40.364Z"
   },
   {
    "duration": 185,
    "start_time": "2023-01-31T13:37:40.406Z"
   },
   {
    "duration": 318,
    "start_time": "2023-01-31T13:37:40.593Z"
   },
   {
    "duration": 2521,
    "start_time": "2023-01-31T13:37:40.914Z"
   },
   {
    "duration": 382,
    "start_time": "2023-01-31T13:37:43.437Z"
   },
   {
    "duration": 178,
    "start_time": "2023-01-31T13:37:43.821Z"
   },
   {
    "duration": 9,
    "start_time": "2023-01-31T13:37:44.002Z"
   },
   {
    "duration": 36,
    "start_time": "2023-01-31T13:37:44.092Z"
   },
   {
    "duration": 226,
    "start_time": "2023-01-31T13:37:44.131Z"
   },
   {
    "duration": 140,
    "start_time": "2023-01-31T13:37:44.359Z"
   },
   {
    "duration": 272,
    "start_time": "2023-01-31T13:37:44.502Z"
   },
   {
    "duration": 33947,
    "start_time": "2023-01-31T13:37:44.776Z"
   },
   {
    "duration": 268,
    "start_time": "2023-01-31T13:38:18.725Z"
   },
   {
    "duration": 13,
    "start_time": "2023-01-31T13:38:18.995Z"
   },
   {
    "duration": 279,
    "start_time": "2023-01-31T13:38:19.012Z"
   },
   {
    "duration": 704,
    "start_time": "2023-01-31T13:38:19.296Z"
   },
   {
    "duration": 4900,
    "start_time": "2023-01-31T13:38:20.003Z"
   },
   {
    "duration": 16028,
    "start_time": "2023-01-31T13:38:24.905Z"
   },
   {
    "duration": 162,
    "start_time": "2023-01-31T13:38:40.935Z"
   },
   {
    "duration": 191,
    "start_time": "2023-01-31T13:38:41.101Z"
   },
   {
    "duration": 98,
    "start_time": "2023-01-31T13:38:41.294Z"
   },
   {
    "duration": 2066,
    "start_time": "2023-01-31T13:38:41.395Z"
   },
   {
    "duration": 7095,
    "start_time": "2023-01-31T13:38:43.464Z"
   },
   {
    "duration": 257,
    "start_time": "2023-01-31T13:38:50.561Z"
   },
   {
    "duration": 18449,
    "start_time": "2023-01-31T13:50:10.472Z"
   },
   {
    "duration": 1380,
    "start_time": "2023-01-31T13:51:02.443Z"
   },
   {
    "duration": 41,
    "start_time": "2023-01-31T13:51:03.826Z"
   },
   {
    "duration": 17,
    "start_time": "2023-01-31T13:51:03.869Z"
   },
   {
    "duration": 61,
    "start_time": "2023-01-31T13:51:03.888Z"
   },
   {
    "duration": 12,
    "start_time": "2023-01-31T13:51:03.950Z"
   },
   {
    "duration": 11,
    "start_time": "2023-01-31T13:51:03.963Z"
   },
   {
    "duration": 14,
    "start_time": "2023-01-31T13:51:03.992Z"
   },
   {
    "duration": 11,
    "start_time": "2023-01-31T13:51:04.008Z"
   },
   {
    "duration": 37,
    "start_time": "2023-01-31T13:51:04.020Z"
   },
   {
    "duration": 16,
    "start_time": "2023-01-31T13:51:04.060Z"
   },
   {
    "duration": 19,
    "start_time": "2023-01-31T13:51:04.078Z"
   },
   {
    "duration": 17,
    "start_time": "2023-01-31T13:51:04.098Z"
   },
   {
    "duration": 17,
    "start_time": "2023-01-31T13:51:04.116Z"
   },
   {
    "duration": 161,
    "start_time": "2023-01-31T13:51:04.135Z"
   },
   {
    "duration": 254,
    "start_time": "2023-01-31T13:51:04.298Z"
   },
   {
    "duration": 2505,
    "start_time": "2023-01-31T13:51:04.554Z"
   },
   {
    "duration": 309,
    "start_time": "2023-01-31T13:51:07.060Z"
   },
   {
    "duration": 124,
    "start_time": "2023-01-31T13:51:07.371Z"
   },
   {
    "duration": 96,
    "start_time": "2023-01-31T13:51:07.497Z"
   },
   {
    "duration": 25,
    "start_time": "2023-01-31T13:51:07.595Z"
   },
   {
    "duration": 231,
    "start_time": "2023-01-31T13:51:07.622Z"
   },
   {
    "duration": 17,
    "start_time": "2023-01-31T13:51:07.855Z"
   },
   {
    "duration": 315,
    "start_time": "2023-01-31T13:51:07.898Z"
   },
   {
    "duration": 31050,
    "start_time": "2023-01-31T13:51:08.214Z"
   },
   {
    "duration": 128,
    "start_time": "2023-01-31T13:51:39.265Z"
   },
   {
    "duration": 97,
    "start_time": "2023-01-31T13:51:39.395Z"
   },
   {
    "duration": 206,
    "start_time": "2023-01-31T13:51:39.494Z"
   },
   {
    "duration": 208,
    "start_time": "2023-01-31T13:51:39.703Z"
   },
   {
    "duration": 4796,
    "start_time": "2023-01-31T13:51:39.912Z"
   },
   {
    "duration": 17846,
    "start_time": "2023-01-31T13:51:44.709Z"
   },
   {
    "duration": 36,
    "start_time": "2023-01-31T13:52:02.557Z"
   },
   {
    "duration": 198,
    "start_time": "2023-01-31T13:52:02.595Z"
   },
   {
    "duration": 106,
    "start_time": "2023-01-31T13:52:02.797Z"
   },
   {
    "duration": 1965,
    "start_time": "2023-01-31T13:52:02.904Z"
   },
   {
    "duration": 6660,
    "start_time": "2023-01-31T13:52:04.871Z"
   },
   {
    "duration": 258,
    "start_time": "2023-01-31T13:52:11.534Z"
   },
   {
    "duration": 1542,
    "start_time": "2023-01-31T14:22:15.793Z"
   },
   {
    "duration": 42,
    "start_time": "2023-01-31T14:22:17.337Z"
   },
   {
    "duration": 18,
    "start_time": "2023-01-31T14:22:17.381Z"
   },
   {
    "duration": 53,
    "start_time": "2023-01-31T14:22:17.401Z"
   },
   {
    "duration": 14,
    "start_time": "2023-01-31T14:22:17.456Z"
   },
   {
    "duration": 32,
    "start_time": "2023-01-31T14:22:17.471Z"
   },
   {
    "duration": 19,
    "start_time": "2023-01-31T14:22:17.505Z"
   },
   {
    "duration": 4,
    "start_time": "2023-01-31T14:22:17.526Z"
   },
   {
    "duration": 21,
    "start_time": "2023-01-31T14:22:17.532Z"
   },
   {
    "duration": 13,
    "start_time": "2023-01-31T14:22:17.556Z"
   },
   {
    "duration": 9,
    "start_time": "2023-01-31T14:22:17.592Z"
   },
   {
    "duration": 17,
    "start_time": "2023-01-31T14:22:17.602Z"
   },
   {
    "duration": 22,
    "start_time": "2023-01-31T14:22:17.621Z"
   },
   {
    "duration": 191,
    "start_time": "2023-01-31T14:22:17.644Z"
   },
   {
    "duration": 253,
    "start_time": "2023-01-31T14:22:17.842Z"
   },
   {
    "duration": 2404,
    "start_time": "2023-01-31T14:22:18.097Z"
   },
   {
    "duration": 312,
    "start_time": "2023-01-31T14:22:20.503Z"
   },
   {
    "duration": 77,
    "start_time": "2023-01-31T14:22:20.817Z"
   },
   {
    "duration": 100,
    "start_time": "2023-01-31T14:22:20.896Z"
   },
   {
    "duration": 31,
    "start_time": "2023-01-31T14:22:20.998Z"
   },
   {
    "duration": 213,
    "start_time": "2023-01-31T14:22:21.030Z"
   },
   {
    "duration": 54,
    "start_time": "2023-01-31T14:22:21.244Z"
   },
   {
    "duration": 273,
    "start_time": "2023-01-31T14:22:21.300Z"
   },
   {
    "duration": 30719,
    "start_time": "2023-01-31T14:22:21.574Z"
   },
   {
    "duration": 102,
    "start_time": "2023-01-31T14:22:52.295Z"
   },
   {
    "duration": 108,
    "start_time": "2023-01-31T14:22:52.399Z"
   },
   {
    "duration": 205,
    "start_time": "2023-01-31T14:22:52.509Z"
   },
   {
    "duration": 204,
    "start_time": "2023-01-31T14:22:52.717Z"
   },
   {
    "duration": 4853,
    "start_time": "2023-01-31T14:22:52.923Z"
   },
   {
    "duration": 18744,
    "start_time": "2023-01-31T14:22:57.777Z"
   },
   {
    "duration": 84,
    "start_time": "2023-01-31T14:23:16.523Z"
   },
   {
    "duration": 101,
    "start_time": "2023-01-31T14:23:16.692Z"
   },
   {
    "duration": 96,
    "start_time": "2023-01-31T14:23:16.796Z"
   },
   {
    "duration": 350,
    "start_time": "2023-01-31T14:23:16.894Z"
   },
   {
    "duration": 305,
    "start_time": "2023-01-31T14:23:17.247Z"
   },
   {
    "duration": 2007,
    "start_time": "2023-01-31T14:23:17.554Z"
   },
   {
    "duration": 6490,
    "start_time": "2023-01-31T14:23:19.563Z"
   },
   {
    "duration": 39,
    "start_time": "2023-01-31T14:23:26.055Z"
   },
   {
    "duration": 196,
    "start_time": "2023-01-31T14:23:26.096Z"
   },
   {
    "duration": 334,
    "start_time": "2023-01-31T14:23:26.294Z"
   },
   {
    "duration": 204,
    "start_time": "2023-01-31T14:23:35.718Z"
   },
   {
    "duration": 162,
    "start_time": "2023-01-31T14:42:12.065Z"
   },
   {
    "duration": 33,
    "start_time": "2023-01-31T14:44:00.275Z"
   },
   {
    "duration": 30,
    "start_time": "2023-01-31T14:45:23.108Z"
   },
   {
    "duration": 1394,
    "start_time": "2023-01-31T14:47:59.351Z"
   },
   {
    "duration": 43,
    "start_time": "2023-01-31T14:48:00.747Z"
   },
   {
    "duration": 26,
    "start_time": "2023-01-31T14:48:00.794Z"
   },
   {
    "duration": 84,
    "start_time": "2023-01-31T14:48:00.822Z"
   },
   {
    "duration": 11,
    "start_time": "2023-01-31T14:48:00.908Z"
   },
   {
    "duration": 34,
    "start_time": "2023-01-31T14:48:00.920Z"
   },
   {
    "duration": 48,
    "start_time": "2023-01-31T14:48:00.956Z"
   },
   {
    "duration": 60,
    "start_time": "2023-01-31T14:48:01.006Z"
   },
   {
    "duration": 56,
    "start_time": "2023-01-31T14:48:01.067Z"
   },
   {
    "duration": 23,
    "start_time": "2023-01-31T14:48:01.126Z"
   },
   {
    "duration": 34,
    "start_time": "2023-01-31T14:48:01.151Z"
   },
   {
    "duration": 36,
    "start_time": "2023-01-31T14:48:01.187Z"
   },
   {
    "duration": 42,
    "start_time": "2023-01-31T14:48:01.224Z"
   },
   {
    "duration": 216,
    "start_time": "2023-01-31T14:48:01.268Z"
   },
   {
    "duration": 254,
    "start_time": "2023-01-31T14:48:01.485Z"
   },
   {
    "duration": 2477,
    "start_time": "2023-01-31T14:48:01.741Z"
   },
   {
    "duration": 297,
    "start_time": "2023-01-31T14:48:04.221Z"
   },
   {
    "duration": 83,
    "start_time": "2023-01-31T14:48:04.519Z"
   },
   {
    "duration": 97,
    "start_time": "2023-01-31T14:48:04.605Z"
   },
   {
    "duration": 22,
    "start_time": "2023-01-31T14:48:04.706Z"
   },
   {
    "duration": 210,
    "start_time": "2023-01-31T14:48:04.729Z"
   },
   {
    "duration": 54,
    "start_time": "2023-01-31T14:48:04.941Z"
   },
   {
    "duration": 278,
    "start_time": "2023-01-31T14:48:04.996Z"
   },
   {
    "duration": 31443,
    "start_time": "2023-01-31T14:48:05.276Z"
   },
   {
    "duration": 89,
    "start_time": "2023-01-31T14:48:36.721Z"
   },
   {
    "duration": 192,
    "start_time": "2023-01-31T14:48:36.812Z"
   },
   {
    "duration": 212,
    "start_time": "2023-01-31T14:48:37.008Z"
   },
   {
    "duration": 204,
    "start_time": "2023-01-31T14:48:37.223Z"
   },
   {
    "duration": 4852,
    "start_time": "2023-01-31T14:48:37.428Z"
   },
   {
    "duration": 18125,
    "start_time": "2023-01-31T14:48:42.282Z"
   },
   {
    "duration": 90,
    "start_time": "2023-01-31T14:49:00.409Z"
   },
   {
    "duration": 193,
    "start_time": "2023-01-31T14:49:00.503Z"
   },
   {
    "duration": 111,
    "start_time": "2023-01-31T14:49:00.698Z"
   },
   {
    "duration": 393,
    "start_time": "2023-01-31T14:49:00.810Z"
   },
   {
    "duration": 207,
    "start_time": "2023-01-31T14:49:01.205Z"
   },
   {
    "duration": 1959,
    "start_time": "2023-01-31T14:49:01.413Z"
   },
   {
    "duration": 6713,
    "start_time": "2023-01-31T14:49:03.374Z"
   },
   {
    "duration": 101,
    "start_time": "2023-01-31T14:49:10.095Z"
   },
   {
    "duration": 130,
    "start_time": "2023-01-31T14:49:10.201Z"
   },
   {
    "duration": 223,
    "start_time": "2023-01-31T14:49:10.393Z"
   },
   {
    "duration": 0,
    "start_time": "2023-01-31T14:49:10.617Z"
   },
   {
    "duration": 31,
    "start_time": "2023-01-31T14:49:50.165Z"
   },
   {
    "duration": 239,
    "start_time": "2023-01-31T14:49:54.716Z"
   },
   {
    "duration": 84,
    "start_time": "2023-01-31T14:51:44.915Z"
   },
   {
    "duration": 1391,
    "start_time": "2023-01-31T14:52:16.044Z"
   },
   {
    "duration": 40,
    "start_time": "2023-01-31T14:52:17.436Z"
   },
   {
    "duration": 28,
    "start_time": "2023-01-31T14:52:17.477Z"
   },
   {
    "duration": 63,
    "start_time": "2023-01-31T14:52:17.507Z"
   },
   {
    "duration": 12,
    "start_time": "2023-01-31T14:52:17.571Z"
   },
   {
    "duration": 38,
    "start_time": "2023-01-31T14:52:17.585Z"
   },
   {
    "duration": 28,
    "start_time": "2023-01-31T14:52:17.625Z"
   },
   {
    "duration": 13,
    "start_time": "2023-01-31T14:52:17.655Z"
   },
   {
    "duration": 42,
    "start_time": "2023-01-31T14:52:17.669Z"
   },
   {
    "duration": 4,
    "start_time": "2023-01-31T14:52:17.713Z"
   },
   {
    "duration": 13,
    "start_time": "2023-01-31T14:52:17.719Z"
   },
   {
    "duration": 18,
    "start_time": "2023-01-31T14:52:17.734Z"
   },
   {
    "duration": 15,
    "start_time": "2023-01-31T14:52:17.754Z"
   },
   {
    "duration": 177,
    "start_time": "2023-01-31T14:52:17.771Z"
   },
   {
    "duration": 276,
    "start_time": "2023-01-31T14:52:17.950Z"
   },
   {
    "duration": 2596,
    "start_time": "2023-01-31T14:52:18.227Z"
   },
   {
    "duration": 341,
    "start_time": "2023-01-31T14:52:20.825Z"
   },
   {
    "duration": 46,
    "start_time": "2023-01-31T14:52:21.168Z"
   },
   {
    "duration": 6,
    "start_time": "2023-01-31T14:52:21.304Z"
   },
   {
    "duration": 45,
    "start_time": "2023-01-31T14:52:21.316Z"
   },
   {
    "duration": 217,
    "start_time": "2023-01-31T14:52:21.391Z"
   },
   {
    "duration": 24,
    "start_time": "2023-01-31T14:52:21.610Z"
   },
   {
    "duration": 295,
    "start_time": "2023-01-31T14:52:21.701Z"
   },
   {
    "duration": 32588,
    "start_time": "2023-01-31T14:52:22.000Z"
   },
   {
    "duration": 100,
    "start_time": "2023-01-31T14:52:54.592Z"
   },
   {
    "duration": 112,
    "start_time": "2023-01-31T14:52:54.700Z"
   },
   {
    "duration": 207,
    "start_time": "2023-01-31T14:52:54.814Z"
   },
   {
    "duration": 213,
    "start_time": "2023-01-31T14:52:55.025Z"
   },
   {
    "duration": 4943,
    "start_time": "2023-01-31T14:52:55.240Z"
   },
   {
    "duration": 21059,
    "start_time": "2023-01-31T14:53:00.184Z"
   },
   {
    "duration": 73,
    "start_time": "2023-01-31T14:53:21.245Z"
   },
   {
    "duration": 106,
    "start_time": "2023-01-31T14:53:21.329Z"
   },
   {
    "duration": 22,
    "start_time": "2023-01-31T14:53:21.508Z"
   },
   {
    "duration": 474,
    "start_time": "2023-01-31T14:53:21.532Z"
   },
   {
    "duration": 246,
    "start_time": "2023-01-31T14:53:22.009Z"
   },
   {
    "duration": 2106,
    "start_time": "2023-01-31T14:53:22.258Z"
   },
   {
    "duration": 6870,
    "start_time": "2023-01-31T14:53:24.366Z"
   },
   {
    "duration": 56,
    "start_time": "2023-01-31T14:53:31.237Z"
   },
   {
    "duration": 150,
    "start_time": "2023-01-31T14:53:31.298Z"
   },
   {
    "duration": 202,
    "start_time": "2023-01-31T14:53:31.450Z"
   },
   {
    "duration": 264,
    "start_time": "2023-01-31T14:53:31.654Z"
   },
   {
    "duration": 76,
    "start_time": "2023-01-31T14:53:31.920Z"
   },
   {
    "duration": 1409,
    "start_time": "2023-01-31T15:00:27.533Z"
   },
   {
    "duration": 43,
    "start_time": "2023-01-31T15:00:28.944Z"
   },
   {
    "duration": 17,
    "start_time": "2023-01-31T15:00:28.991Z"
   },
   {
    "duration": 67,
    "start_time": "2023-01-31T15:00:29.009Z"
   },
   {
    "duration": 15,
    "start_time": "2023-01-31T15:00:29.078Z"
   },
   {
    "duration": 41,
    "start_time": "2023-01-31T15:00:29.095Z"
   },
   {
    "duration": 36,
    "start_time": "2023-01-31T15:00:29.138Z"
   },
   {
    "duration": 26,
    "start_time": "2023-01-31T15:00:29.176Z"
   },
   {
    "duration": 34,
    "start_time": "2023-01-31T15:00:29.205Z"
   },
   {
    "duration": 25,
    "start_time": "2023-01-31T15:00:29.241Z"
   },
   {
    "duration": 39,
    "start_time": "2023-01-31T15:00:29.268Z"
   },
   {
    "duration": 88,
    "start_time": "2023-01-31T15:00:29.309Z"
   },
   {
    "duration": 30,
    "start_time": "2023-01-31T15:00:29.399Z"
   },
   {
    "duration": 176,
    "start_time": "2023-01-31T15:00:29.431Z"
   },
   {
    "duration": 273,
    "start_time": "2023-01-31T15:00:29.608Z"
   },
   {
    "duration": 2343,
    "start_time": "2023-01-31T15:00:29.882Z"
   },
   {
    "duration": 290,
    "start_time": "2023-01-31T15:00:32.227Z"
   },
   {
    "duration": 82,
    "start_time": "2023-01-31T15:00:32.519Z"
   },
   {
    "duration": 107,
    "start_time": "2023-01-31T15:00:32.603Z"
   },
   {
    "duration": 58,
    "start_time": "2023-01-31T15:00:32.712Z"
   },
   {
    "duration": 199,
    "start_time": "2023-01-31T15:00:32.772Z"
   },
   {
    "duration": 28,
    "start_time": "2023-01-31T15:00:32.973Z"
   },
   {
    "duration": 368,
    "start_time": "2023-01-31T15:00:33.003Z"
   },
   {
    "duration": 30576,
    "start_time": "2023-01-31T15:00:33.373Z"
   },
   {
    "duration": 151,
    "start_time": "2023-01-31T15:01:03.951Z"
   },
   {
    "duration": 98,
    "start_time": "2023-01-31T15:01:04.105Z"
   },
   {
    "duration": 228,
    "start_time": "2023-01-31T15:01:04.206Z"
   },
   {
    "duration": 208,
    "start_time": "2023-01-31T15:01:04.436Z"
   },
   {
    "duration": 4796,
    "start_time": "2023-01-31T15:01:04.646Z"
   },
   {
    "duration": 18147,
    "start_time": "2023-01-31T15:01:09.444Z"
   },
   {
    "duration": 22,
    "start_time": "2023-01-31T15:01:27.592Z"
   },
   {
    "duration": 273,
    "start_time": "2023-01-31T15:01:27.617Z"
   },
   {
    "duration": 99,
    "start_time": "2023-01-31T15:01:27.893Z"
   },
   {
    "duration": 344,
    "start_time": "2023-01-31T15:01:27.993Z"
   },
   {
    "duration": 227,
    "start_time": "2023-01-31T15:01:28.339Z"
   },
   {
    "duration": 1964,
    "start_time": "2023-01-31T15:01:28.568Z"
   },
   {
    "duration": 6440,
    "start_time": "2023-01-31T15:01:30.534Z"
   },
   {
    "duration": 126,
    "start_time": "2023-01-31T15:01:36.976Z"
   },
   {
    "duration": 100,
    "start_time": "2023-01-31T15:01:37.193Z"
   },
   {
    "duration": 121,
    "start_time": "2023-01-31T15:01:37.295Z"
   },
   {
    "duration": 228,
    "start_time": "2023-01-31T15:01:37.417Z"
   },
   {
    "duration": 53,
    "start_time": "2023-01-31T15:01:37.647Z"
   },
   {
    "duration": 1448,
    "start_time": "2023-01-31T15:02:26.051Z"
   },
   {
    "duration": 40,
    "start_time": "2023-01-31T15:02:27.501Z"
   },
   {
    "duration": 16,
    "start_time": "2023-01-31T15:02:27.543Z"
   },
   {
    "duration": 53,
    "start_time": "2023-01-31T15:02:27.561Z"
   },
   {
    "duration": 12,
    "start_time": "2023-01-31T15:02:27.616Z"
   },
   {
    "duration": 11,
    "start_time": "2023-01-31T15:02:27.629Z"
   },
   {
    "duration": 18,
    "start_time": "2023-01-31T15:02:27.641Z"
   },
   {
    "duration": 14,
    "start_time": "2023-01-31T15:02:27.661Z"
   },
   {
    "duration": 22,
    "start_time": "2023-01-31T15:02:27.691Z"
   },
   {
    "duration": 14,
    "start_time": "2023-01-31T15:02:27.715Z"
   },
   {
    "duration": 11,
    "start_time": "2023-01-31T15:02:27.731Z"
   },
   {
    "duration": 10,
    "start_time": "2023-01-31T15:02:27.743Z"
   },
   {
    "duration": 17,
    "start_time": "2023-01-31T15:02:27.755Z"
   },
   {
    "duration": 175,
    "start_time": "2023-01-31T15:02:27.774Z"
   },
   {
    "duration": 270,
    "start_time": "2023-01-31T15:02:27.951Z"
   },
   {
    "duration": 2363,
    "start_time": "2023-01-31T15:02:28.223Z"
   },
   {
    "duration": 305,
    "start_time": "2023-01-31T15:02:30.591Z"
   },
   {
    "duration": 21,
    "start_time": "2023-01-31T15:02:30.899Z"
   },
   {
    "duration": 103,
    "start_time": "2023-01-31T15:02:30.992Z"
   },
   {
    "duration": 54,
    "start_time": "2023-01-31T15:02:31.097Z"
   },
   {
    "duration": 195,
    "start_time": "2023-01-31T15:02:31.153Z"
   },
   {
    "duration": 44,
    "start_time": "2023-01-31T15:02:31.350Z"
   },
   {
    "duration": 280,
    "start_time": "2023-01-31T15:02:31.397Z"
   },
   {
    "duration": 31294,
    "start_time": "2023-01-31T15:02:31.679Z"
   },
   {
    "duration": 37,
    "start_time": "2023-01-31T15:03:02.975Z"
   },
   {
    "duration": 102,
    "start_time": "2023-01-31T15:03:03.094Z"
   },
   {
    "duration": 208,
    "start_time": "2023-01-31T15:03:03.198Z"
   },
   {
    "duration": 212,
    "start_time": "2023-01-31T15:03:03.409Z"
   },
   {
    "duration": 4910,
    "start_time": "2023-01-31T15:03:03.624Z"
   },
   {
    "duration": 18477,
    "start_time": "2023-01-31T15:03:08.536Z"
   },
   {
    "duration": 77,
    "start_time": "2023-01-31T15:03:27.015Z"
   },
   {
    "duration": 121,
    "start_time": "2023-01-31T15:03:27.095Z"
   },
   {
    "duration": 12,
    "start_time": "2023-01-31T15:03:27.293Z"
   },
   {
    "duration": 350,
    "start_time": "2023-01-31T15:03:27.392Z"
   },
   {
    "duration": 221,
    "start_time": "2023-01-31T15:03:27.744Z"
   },
   {
    "duration": 1970,
    "start_time": "2023-01-31T15:03:27.966Z"
   },
   {
    "duration": 6484,
    "start_time": "2023-01-31T15:03:29.938Z"
   },
   {
    "duration": 68,
    "start_time": "2023-01-31T15:03:36.424Z"
   },
   {
    "duration": 201,
    "start_time": "2023-01-31T15:03:36.495Z"
   },
   {
    "duration": 143,
    "start_time": "2023-01-31T15:03:36.698Z"
   },
   {
    "duration": 213,
    "start_time": "2023-01-31T15:03:36.843Z"
   },
   {
    "duration": 134,
    "start_time": "2023-01-31T15:03:37.058Z"
   },
   {
    "duration": 1600,
    "start_time": "2023-02-01T00:40:09.322Z"
   },
   {
    "duration": 181,
    "start_time": "2023-02-01T00:40:10.924Z"
   },
   {
    "duration": 19,
    "start_time": "2023-02-01T00:40:11.107Z"
   },
   {
    "duration": 53,
    "start_time": "2023-02-01T00:40:11.129Z"
   },
   {
    "duration": 19,
    "start_time": "2023-02-01T00:40:11.190Z"
   },
   {
    "duration": 18,
    "start_time": "2023-02-01T00:40:11.212Z"
   },
   {
    "duration": 12,
    "start_time": "2023-02-01T00:40:11.232Z"
   },
   {
    "duration": 4,
    "start_time": "2023-02-01T00:40:11.246Z"
   },
   {
    "duration": 64,
    "start_time": "2023-02-01T00:40:11.252Z"
   },
   {
    "duration": 5,
    "start_time": "2023-02-01T00:40:11.319Z"
   },
   {
    "duration": 27,
    "start_time": "2023-02-01T00:40:11.326Z"
   },
   {
    "duration": 14,
    "start_time": "2023-02-01T00:40:11.355Z"
   },
   {
    "duration": 19,
    "start_time": "2023-02-01T00:40:11.371Z"
   },
   {
    "duration": 200,
    "start_time": "2023-02-01T00:40:11.392Z"
   },
   {
    "duration": 284,
    "start_time": "2023-02-01T00:40:11.594Z"
   },
   {
    "duration": 2474,
    "start_time": "2023-02-01T00:40:11.880Z"
   },
   {
    "duration": 298,
    "start_time": "2023-02-01T00:40:14.356Z"
   },
   {
    "duration": 42,
    "start_time": "2023-02-01T00:40:14.656Z"
   },
   {
    "duration": 99,
    "start_time": "2023-02-01T00:40:14.700Z"
   },
   {
    "duration": 27,
    "start_time": "2023-02-01T00:40:14.803Z"
   },
   {
    "duration": 293,
    "start_time": "2023-02-01T00:40:14.831Z"
   },
   {
    "duration": 167,
    "start_time": "2023-02-01T00:40:15.126Z"
   },
   {
    "duration": 204,
    "start_time": "2023-02-01T00:40:15.296Z"
   },
   {
    "duration": 30179,
    "start_time": "2023-02-01T00:40:15.501Z"
   },
   {
    "duration": 112,
    "start_time": "2023-02-01T00:40:45.681Z"
   },
   {
    "duration": 97,
    "start_time": "2023-02-01T00:40:45.795Z"
   },
   {
    "duration": 192,
    "start_time": "2023-02-01T00:40:45.894Z"
   },
   {
    "duration": 187,
    "start_time": "2023-02-01T00:40:46.094Z"
   },
   {
    "duration": 4431,
    "start_time": "2023-02-01T00:40:46.285Z"
   },
   {
    "duration": 17371,
    "start_time": "2023-02-01T00:40:50.718Z"
   },
   {
    "duration": 109,
    "start_time": "2023-02-01T00:41:08.091Z"
   },
   {
    "duration": 200,
    "start_time": "2023-02-01T00:41:08.202Z"
   },
   {
    "duration": 98,
    "start_time": "2023-02-01T00:41:08.404Z"
   },
   {
    "duration": 432,
    "start_time": "2023-02-01T00:41:08.506Z"
   },
   {
    "duration": 219,
    "start_time": "2023-02-01T00:41:08.940Z"
   },
   {
    "duration": 2230,
    "start_time": "2023-02-01T00:41:09.161Z"
   },
   {
    "duration": 6560,
    "start_time": "2023-02-01T00:41:11.394Z"
   },
   {
    "duration": 36,
    "start_time": "2023-02-01T00:41:17.955Z"
   },
   {
    "duration": 122,
    "start_time": "2023-02-01T00:41:17.994Z"
   },
   {
    "duration": 303,
    "start_time": "2023-02-01T00:41:18.197Z"
   },
   {
    "duration": 1310,
    "start_time": "2023-02-01T01:03:50.873Z"
   },
   {
    "duration": 41,
    "start_time": "2023-02-01T01:03:52.185Z"
   },
   {
    "duration": 15,
    "start_time": "2023-02-01T01:03:52.227Z"
   },
   {
    "duration": 54,
    "start_time": "2023-02-01T01:03:52.243Z"
   },
   {
    "duration": 10,
    "start_time": "2023-02-01T01:03:52.298Z"
   },
   {
    "duration": 18,
    "start_time": "2023-02-01T01:03:52.309Z"
   },
   {
    "duration": 11,
    "start_time": "2023-02-01T01:03:52.328Z"
   },
   {
    "duration": 4,
    "start_time": "2023-02-01T01:03:52.340Z"
   },
   {
    "duration": 19,
    "start_time": "2023-02-01T01:03:52.346Z"
   },
   {
    "duration": 26,
    "start_time": "2023-02-01T01:03:52.367Z"
   },
   {
    "duration": 8,
    "start_time": "2023-02-01T01:03:52.395Z"
   },
   {
    "duration": 7,
    "start_time": "2023-02-01T01:03:52.405Z"
   },
   {
    "duration": 13,
    "start_time": "2023-02-01T01:03:52.414Z"
   },
   {
    "duration": 163,
    "start_time": "2023-02-01T01:03:52.428Z"
   },
   {
    "duration": 233,
    "start_time": "2023-02-01T01:03:52.593Z"
   },
   {
    "duration": 2175,
    "start_time": "2023-02-01T01:03:52.827Z"
   },
   {
    "duration": 284,
    "start_time": "2023-02-01T01:03:55.003Z"
   },
   {
    "duration": 20,
    "start_time": "2023-02-01T01:03:55.288Z"
   },
   {
    "duration": 89,
    "start_time": "2023-02-01T01:03:55.310Z"
   },
   {
    "duration": 106,
    "start_time": "2023-02-01T01:03:55.402Z"
   },
   {
    "duration": 193,
    "start_time": "2023-02-01T01:03:55.510Z"
   },
   {
    "duration": 89,
    "start_time": "2023-02-01T01:03:55.704Z"
   },
   {
    "duration": 268,
    "start_time": "2023-02-01T01:03:55.796Z"
   },
   {
    "duration": 28609,
    "start_time": "2023-02-01T01:03:56.066Z"
   },
   {
    "duration": 32,
    "start_time": "2023-02-01T01:04:24.677Z"
   },
   {
    "duration": 99,
    "start_time": "2023-02-01T01:04:24.793Z"
   },
   {
    "duration": 211,
    "start_time": "2023-02-01T01:04:24.893Z"
   },
   {
    "duration": 193,
    "start_time": "2023-02-01T01:04:25.107Z"
   },
   {
    "duration": 4501,
    "start_time": "2023-02-01T01:04:25.301Z"
   },
   {
    "duration": 16584,
    "start_time": "2023-02-01T01:04:29.803Z"
   },
   {
    "duration": 25,
    "start_time": "2023-02-01T01:04:46.391Z"
   },
   {
    "duration": 179,
    "start_time": "2023-02-01T01:04:46.419Z"
   },
   {
    "duration": 98,
    "start_time": "2023-02-01T01:04:46.601Z"
   },
   {
    "duration": 398,
    "start_time": "2023-02-01T01:04:46.701Z"
   },
   {
    "duration": 198,
    "start_time": "2023-02-01T01:04:47.101Z"
   },
   {
    "duration": 1811,
    "start_time": "2023-02-01T01:04:47.301Z"
   },
   {
    "duration": 5926,
    "start_time": "2023-02-01T01:04:49.114Z"
   },
   {
    "duration": 50,
    "start_time": "2023-02-01T01:04:55.043Z"
   },
   {
    "duration": 198,
    "start_time": "2023-02-01T01:04:55.095Z"
   },
   {
    "duration": 287,
    "start_time": "2023-02-01T01:04:55.295Z"
   }
  ],
  "kernelspec": {
   "display_name": "Python 3 (ipykernel)",
   "language": "python",
   "name": "python3"
  },
  "language_info": {
   "codemirror_mode": {
    "name": "ipython",
    "version": 3
   },
   "file_extension": ".py",
   "mimetype": "text/x-python",
   "name": "python",
   "nbconvert_exporter": "python",
   "pygments_lexer": "ipython3",
   "version": "3.9.5"
  },
  "toc": {
   "base_numbering": 1,
   "nav_menu": {},
   "number_sections": true,
   "sideBar": true,
   "skip_h1_title": true,
   "title_cell": "Содержание",
   "title_sidebar": "Contents",
   "toc_cell": true,
   "toc_position": {},
   "toc_section_display": true,
   "toc_window_display": false
  }
 },
 "nbformat": 4,
 "nbformat_minor": 2
}
